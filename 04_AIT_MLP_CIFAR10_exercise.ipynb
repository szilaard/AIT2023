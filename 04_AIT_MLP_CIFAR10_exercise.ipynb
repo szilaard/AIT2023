{
  "nbformat": 4,
  "nbformat_minor": 0,
  "metadata": {
    "anaconda-cloud": {},
    "kernelspec": {
      "display_name": "Python 3",
      "language": "python",
      "name": "python3"
    },
    "language_info": {
      "codemirror_mode": {
        "name": "ipython",
        "version": 3
      },
      "file_extension": ".py",
      "mimetype": "text/x-python",
      "name": "python",
      "nbconvert_exporter": "python",
      "pygments_lexer": "ipython3",
      "version": "3.6.6"
    },
    "colab": {
      "provenance": [],
      "collapsed_sections": [
        "cW-EyI5Lxpqi",
        "3EX4cCa4WKJu"
      ],
      "include_colab_link": true
    },
    "accelerator": "GPU"
  },
  "cells": [
    {
      "cell_type": "markdown",
      "metadata": {
        "id": "view-in-github",
        "colab_type": "text"
      },
      "source": [
        "<a href=\"https://colab.research.google.com/github/szilaard/AIT2023/blob/main/04_AIT_MLP_CIFAR10_exercise.ipynb\" target=\"_parent\"><img src=\"https://colab.research.google.com/assets/colab-badge.svg\" alt=\"Open In Colab\"/></a>"
      ]
    },
    {
      "cell_type": "markdown",
      "metadata": {
        "id": "cW-EyI5Lxpqi"
      },
      "source": [
        "# Copyright\n",
        "\n",
        "<PRE>\n",
        "Copyright (c) 2023 Bálint Gyires-Tóth - All Rights Reserved\n",
        "You may use and modify this code for research and development purpuses.\n",
        "Using this code for educational purposes (self-paced or instructor led) without the permission of the author is prohibited.\n",
        "</PRE>"
      ]
    },
    {
      "cell_type": "markdown",
      "source": [
        "# Example of data exploration, modeling, regulartion and prediction\n",
        "Our exercise today involves loading a standard dataset using TensorFlow Keras API, exploring the data, building a simple neural network, and evaluating the effects of basic methods (activation functions, regularization, weight initialization, etc.). We then perform predictions on the test set and inspect the results. "
      ],
      "metadata": {
        "id": "3EX4cCa4WKJu"
      }
    },
    {
      "cell_type": "markdown",
      "source": [
        "# 1. Data\n",
        "The dataset we will use is the well-known CIFAR10 (Canadian Institute For Advanced Research). Explore the details on the Keras website first: https://keras.io/api/datasets/cifar10/\n",
        "\n",
        "After you explored the basic features of the data, let's load it into the memory and explore the shapes:"
      ],
      "metadata": {
        "id": "yY9fztIeWIKt"
      }
    },
    {
      "cell_type": "code",
      "source": [
        "from tensorflow.keras.datasets import cifar10\n",
        "from tensorflow.keras.utils import to_categorical\n",
        "import numpy as np"
      ],
      "metadata": {
        "id": "giRZKTjzX_7l"
      },
      "execution_count": 1,
      "outputs": []
    },
    {
      "cell_type": "code",
      "source": [
        "(X_train, Y_train), (X_test, Y_test) = cifar10.load_data()"
      ],
      "metadata": {
        "id": "bez7q0eiWQCK",
        "colab": {
          "base_uri": "https://localhost:8080/"
        },
        "outputId": "c5c5cc14-c3f5-4fb2-f50e-ecdeec0eda6d"
      },
      "execution_count": 2,
      "outputs": [
        {
          "output_type": "stream",
          "name": "stdout",
          "text": [
            "Downloading data from https://www.cs.toronto.edu/~kriz/cifar-10-python.tar.gz\n",
            "170498071/170498071 [==============================] - 13s 0us/step\n"
          ]
        }
      ]
    },
    {
      "cell_type": "code",
      "source": [
        "print(X_train.shape)\n",
        "print(X_test.shape)\n",
        "print(Y_train.shape)\n",
        "print(Y_test.shape)"
      ],
      "metadata": {
        "id": "2tJoRq5wXywi",
        "colab": {
          "base_uri": "https://localhost:8080/"
        },
        "outputId": "8914ca6c-0dfa-469f-c3ca-b633741e725d"
      },
      "execution_count": 3,
      "outputs": [
        {
          "output_type": "stream",
          "name": "stdout",
          "text": [
            "(50000, 32, 32, 3)\n",
            "(10000, 32, 32, 3)\n",
            "(50000, 1)\n",
            "(10000, 1)\n"
          ]
        }
      ]
    },
    {
      "cell_type": "markdown",
      "source": [
        "## 1.1. Exercise \n",
        "Display the first ten images of the training data. Hints:\n",
        "* Axis 0 refers to the separate images, e.g. X_train[0]\n",
        "* You can use the [Matplotlib Pyplot imshow function](https://matplotlib.org/stable/api/_as_gen/matplotlib.pyplot.imshow.html) for displaying the image. Just don't forget to import Plotly first!\n",
        "* A corresponding example, but you have to modify the code for your purpose: https://stackoverflow.com/questions/46615554/how-to-display-multiple-images-in-one-figure-correctly"
      ],
      "metadata": {
        "id": "zTCSGFyDlNvf"
      }
    },
    {
      "cell_type": "code",
      "source": [
        "import matplotlib.pyplot as plt\n",
        "\n",
        "columns=5\n",
        "rows=2\n",
        "w=32\n",
        "h=32\n",
        "fig = plt.figure(figsize=(30, 8))\n",
        "for i in range(1, columns*rows+1 ):\n",
        "    img=X_train[i-1]\n",
        "    fig.add_subplot(rows, columns, i)\n",
        "    plt.imshow(img)\n",
        "plt.show()"
      ],
      "metadata": {
        "id": "hIQhHTppmBdO",
        "colab": {
          "base_uri": "https://localhost:8080/",
          "height": 425
        },
        "outputId": "115c8ba3-1178-44ec-df6a-3bf6a229946f"
      },
      "execution_count": 4,
      "outputs": [
        {
          "output_type": "display_data",
          "data": {
            "text/plain": [
              "<Figure size 2160x576 with 10 Axes>"
            ],
            "image/png": "[encoded data removed]"
          },
          "metadata": {
            "needs_background": "light"
          }
        }
      ]
    },
    {
      "cell_type": "markdown",
      "source": [
        "Print the corresponding labels of the displayed images from the target variable (Y_train):"
      ],
      "metadata": {
        "id": "FAQkUWlmm-bc"
      }
    },
    {
      "cell_type": "code",
      "source": [
        "print(Y_train[:10])"
      ],
      "metadata": {
        "id": "AkOrWzghnJ78",
        "colab": {
          "base_uri": "https://localhost:8080/"
        },
        "outputId": "6f8b8e21-c027-45ed-dfbe-ecbc2e8ded99"
      },
      "execution_count": 5,
      "outputs": [
        {
          "output_type": "stream",
          "name": "stdout",
          "text": [
            "[[6]\n",
            " [9]\n",
            " [9]\n",
            " [4]\n",
            " [1]\n",
            " [1]\n",
            " [2]\n",
            " [7]\n",
            " [8]\n",
            " [3]]\n"
          ]
        }
      ]
    },
    {
      "cell_type": "markdown",
      "source": [
        "## 1.2. Exercise\n",
        "We will train a Multi-Layer Perceptron (MLP), which requires a 2 dimensional input: 0th axis refers to the datapoints (i.e. images), the 1th dimens to the input. As images are 3 dimensional (width, height, color channels), you have to reshape the images into vectors. We also call this flattening. \n",
        "\n",
        "In order to do so, calculate the size of the equivalent 1D vector of the image:"
      ],
      "metadata": {
        "id": "VX24g5FstsRU"
      }
    },
    {
      "cell_type": "code",
      "source": [
        "flattened_dim = 32*32*3"
      ],
      "metadata": {
        "id": "hdoMyxHzuXZG"
      },
      "execution_count": 6,
      "outputs": []
    },
    {
      "cell_type": "markdown",
      "source": [
        "After you calculated it, we can reshape the images, and covert the integer arrays into float arrays -- which are needed for the neural networks as input. Hint:\n",
        "* in the [reshape() function of Numpy](https://www.w3schools.com/python/numpy/numpy_array_reshape.asp) you can use -1 for one axis, to automatically calculate that value."
      ],
      "metadata": {
        "id": "WbqXJUSFubeC"
      }
    },
    {
      "cell_type": "code",
      "source": [
        "# reshape 3D tensors to 2D tensors\n",
        "X_train = X_train.reshape(-1,flattened_dim)\n",
        "X_test = X_test.reshape(-1,flattened_dim)\n",
        "\n",
        "# it is in int8 format, the neural network requires float32\n",
        "X_train = X_train.astype(float)\n",
        "X_test = X_test.astype(float)"
      ],
      "metadata": {
        "id": "vukOcBM0XzSj"
      },
      "execution_count": 7,
      "outputs": []
    },
    {
      "cell_type": "markdown",
      "source": [
        "## 1.3. Exercise\n",
        "As the next step, let's split the training data into training and validation data. 80% of the original training data should be the final training data, and 20% the validation.\n",
        "You should use Numpy indexing to select the first 80% of X_train as final X_train, and the last 20% as X_valid. Hints: \n",
        "* https://datascienceparichay.com/article/numpy-array-first-n-rows/\n",
        "* https://datascienceparichay.com/article/numpy-array-last-n-rows/"
      ],
      "metadata": {
        "id": "DO79AdIdvVfD"
      }
    },
    {
      "cell_type": "code",
      "source": [
        "train_ratio  = 0.8\n",
        "train_length = X_train.shape[0] # length of the training data\n",
        "train_split  = int(train_length*train_ratio) # where to split the training and validation data\n",
        "X_valid, Y_valid = X_train[-(train_length-train_split):,:], Y_train[-(train_length-train_split):,:]\n",
        "X_train, Y_train = X_train[0:train_split,:], Y_train[0:train_split,:]"
      ],
      "metadata": {
        "id": "mRwuWxxIxLgN"
      },
      "execution_count": 8,
      "outputs": []
    },
    {
      "cell_type": "markdown",
      "source": [
        "## 1.4. Exercise\n",
        "As the last step of input data preparation, the data should be standardized. Calculate the mean and variance of the training data (elementvise -- so for each value of the flattened image you should get a mean and variance for the training data along 0th axis). Hint: \n",
        "* https://stackoverflow.com/questions/70626231/how-to-calculate-mean-variance-standard-deviation-per-index-of-array"
      ],
      "metadata": {
        "id": "z05y_QWDxWER"
      }
    },
    {
      "cell_type": "code",
      "source": [
        "mean = np.mean(X_train, axis=0)\n",
        "std  = np.std(X_train, axis=0)"
      ],
      "metadata": {
        "id": "TSZbvWCBx8Ea"
      },
      "execution_count": 9,
      "outputs": []
    },
    {
      "cell_type": "markdown",
      "source": [
        "Next, use the resulting values to standardize the training, validation and test data by substracting the mean and dividing the result with the standard deviation."
      ],
      "metadata": {
        "id": "6WRHKkkjyN1S"
      }
    },
    {
      "cell_type": "code",
      "source": [
        "X_train = (X_train-mean)/std\n",
        "X_valid = (X_valid-mean)/std\n",
        "X_test  = (X_test-mean)/std"
      ],
      "metadata": {
        "id": "2ESLP1EIyB2J"
      },
      "execution_count": 10,
      "outputs": []
    },
    {
      "cell_type": "markdown",
      "source": [
        "## 1.5. Exercise\n",
        "And as the last step, convert the dense representation of the classes (i.e. 0,1,2,3...9) to one-hot encoding (0 = [1 0 0 0 0 0 0 0 0 0], 1 = [0 1 0 0 0 0 0 0 0 0] ... 9 = [0 0 0 0 0 0 0 0 0 1]). To do this, first, calculate the number of unique elements in the target training data. Hints:\n",
        "* use the [unique() function](https://numpy.org/doc/stable/reference/generated/numpy.unique.html) of Numpy to list the unique elements\n",
        "* you can count the number of elements in a list with the [len() function](https://www.w3schools.com/python/ref_func_len.asp)"
      ],
      "metadata": {
        "id": "ooHCnUin7r4o"
      }
    },
    {
      "cell_type": "code",
      "source": [
        "nb_classes = len(np.unique(Y_train))"
      ],
      "metadata": {
        "id": "i0LAO9cs8KEE"
      },
      "execution_count": 11,
      "outputs": []
    },
    {
      "cell_type": "markdown",
      "source": [
        "Doublecheck, if the same number of classes exists in the validation and test target data:"
      ],
      "metadata": {
        "id": "BvM6XhGe8JU9"
      }
    },
    {
      "cell_type": "code",
      "source": [
        "print(\"Validation data has the same number of classes, as the training data:\", nb_classes == len(np.unique(Y_valid)))\n",
        "print(\"Test data has the same number of classes, as the training data:\", nb_classes == len(np.unique(Y_test)))\n",
        "print(len(np.unique(Y_test)))\n",
        "print(len(np.unique(Y_valid)))"
      ],
      "metadata": {
        "id": "eZFNSsyx_Py2",
        "colab": {
          "base_uri": "https://localhost:8080/"
        },
        "outputId": "93908827-124b-49a7-c761-5b93e168de64"
      },
      "execution_count": 12,
      "outputs": [
        {
          "output_type": "stream",
          "name": "stdout",
          "text": [
            "Validation data has the same number of classes, as the training data: True\n",
            "Test data has the same number of classes, as the training data: True\n",
            "10\n",
            "10\n"
          ]
        }
      ]
    },
    {
      "cell_type": "markdown",
      "source": [
        "And convert the dense representation into one-hot encoding. Hint:\n",
        "* use the [to_categorical function](https://www.tensorflow.org/api_docs/python/tf/keras/utils/to_categorical) with the calculated nb_classes\n"
      ],
      "metadata": {
        "id": "mJM-iBmR8dLe"
      }
    },
    {
      "cell_type": "code",
      "source": [
        "Y_train = to_categorical(\n",
        "    Y_train, num_classes=nb_classes, dtype='float32'\n",
        ")\n",
        "Y_valid = to_categorical(\n",
        "    Y_valid, num_classes=nb_classes, dtype='float32'\n",
        ")\n",
        "Y_test  = to_categorical(\n",
        "    Y_test, num_classes=nb_classes, dtype='float32'\n",
        ")"
      ],
      "metadata": {
        "id": "xwZ4OJ6I8lba"
      },
      "execution_count": 13,
      "outputs": []
    },
    {
      "cell_type": "markdown",
      "source": [
        "## Final check of data preparation\n",
        "Now, lets check the shapes and mean and standard deviation of the training, validation and test data."
      ],
      "metadata": {
        "id": "LshN2OSsv3TZ"
      }
    },
    {
      "cell_type": "code",
      "source": [
        "print(\"Shapes of the training, validation and test input data:\", X_train.shape, X_valid.shape, X_test.shape)\n",
        "print(\"Shapes of the training, validation and test output data:\", Y_train.shape, Y_valid.shape, Y_test.shape)\n",
        "print(\"Mean values of the training, validation and test input data:\", X_train.mean(), X_valid.mean(), X_test.mean())\n",
        "print(\"Standard deviation of the training, validation and test input data:\", X_train.std(), X_valid.std(), X_test.std())"
      ],
      "metadata": {
        "id": "O_jdJVcvX0vi",
        "colab": {
          "base_uri": "https://localhost:8080/"
        },
        "outputId": "e04147c7-dcbc-4b00-dabb-f2d0182e8119"
      },
      "execution_count": 14,
      "outputs": [
        {
          "output_type": "stream",
          "name": "stdout",
          "text": [
            "Shapes of the training, validation and test input data: (40000, 3072) (10000, 3072) (10000, 3072)\n",
            "Shapes of the training, validation and test output data: (40000, 10) (10000, 10) (10000, 10)\n",
            "Mean values of the training, validation and test input data: 6.208922265216188e-18 0.0023437140466796656 0.013331171092908317\n",
            "Standard deviation of the training, validation and test input data: 1.0000000000000009 0.9965601589924457 0.9978282721027735\n"
          ]
        }
      ]
    },
    {
      "cell_type": "markdown",
      "source": [
        "Don't worry, if the mean and standard deviation of the validation and test data are not exactly 0 and 1, but these might be very mear to it (e.g. 0.01 mean, 0.99 variance)."
      ],
      "metadata": {
        "id": "5GtAOOoezmZY"
      }
    },
    {
      "cell_type": "markdown",
      "metadata": {
        "id": "cJ14oyZExpqj"
      },
      "source": [
        "# 2. Training "
      ]
    },
    {
      "cell_type": "markdown",
      "metadata": {
        "id": "s4ZXYRMBxpql"
      },
      "source": [
        "Let us begin with a simple example of creating a small neural network without regularization and training it with actual data. The purpose of this is to provide you with an example as to how to proceed with the next exercise. "
      ]
    },
    {
      "cell_type": "code",
      "source": [
        "# imports \n",
        "import numpy as np\n",
        "import matplotlib.pyplot as plt\n",
        "from tensorflow.keras.models import Sequential\n",
        "from tensorflow.keras.layers import Dense, Embedding, Flatten, Dropout\n",
        "from tensorflow.keras.initializers import HeNormal\n",
        "from tensorflow.keras.callbacks import EarlyStopping"
      ],
      "metadata": {
        "id": "6-8Q6ll7ZDgq"
      },
      "execution_count": 15,
      "outputs": []
    },
    {
      "cell_type": "code",
      "source": [
        "# model definition\n",
        "model = Sequential()\n",
        "model.add(Dense(128, activation='tanh', input_shape=(flattened_dim,)))\n",
        "model.add(Dense(128, activation='tanh'))\n",
        "model.add(Dense(nb_classes, activation='softmax'))\n",
        "\n",
        "# loss function and optimizer\n",
        "model.compile(loss='categorical_crossentropy', optimizer='adam', metrics=['accuracy'])"
      ],
      "metadata": {
        "id": "pke6w3CD8DHp"
      },
      "execution_count": 16,
      "outputs": []
    },
    {
      "cell_type": "code",
      "metadata": {
        "id": "CZbOR76QxprC",
        "colab": {
          "base_uri": "https://localhost:8080/"
        },
        "outputId": "15dd7fc7-769b-4200-f9b3-936a78a02e54"
      },
      "source": [
        "# training\n",
        "network_history = model.fit(X_train, Y_train, \n",
        "                            validation_data=(X_valid,Y_valid),\n",
        "                            batch_size=128,                             \n",
        "                            epochs=40, \n",
        "                            verbose=1)"
      ],
      "execution_count": 17,
      "outputs": [
        {
          "output_type": "stream",
          "name": "stdout",
          "text": [
            "Epoch 1/40\n",
            "313/313 [==============================] - 8s 8ms/step - loss: 1.8217 - accuracy: 0.3642 - val_loss: 1.7706 - val_accuracy: 0.3879\n",
            "Epoch 2/40\n",
            "313/313 [==============================] - 1s 4ms/step - loss: 1.6942 - accuracy: 0.4142 - val_loss: 1.7370 - val_accuracy: 0.3949\n",
            "Epoch 3/40\n",
            "313/313 [==============================] - 1s 5ms/step - loss: 1.6395 - accuracy: 0.4348 - val_loss: 1.7242 - val_accuracy: 0.4022\n",
            "Epoch 4/40\n",
            "313/313 [==============================] - 1s 4ms/step - loss: 1.5981 - accuracy: 0.4466 - val_loss: 1.6825 - val_accuracy: 0.4193\n",
            "Epoch 5/40\n",
            "313/313 [==============================] - 1s 4ms/step - loss: 1.5649 - accuracy: 0.4569 - val_loss: 1.6918 - val_accuracy: 0.4173\n",
            "Epoch 6/40\n",
            "313/313 [==============================] - 1s 4ms/step - loss: 1.5299 - accuracy: 0.4691 - val_loss: 1.6536 - val_accuracy: 0.4312\n",
            "Epoch 7/40\n",
            "313/313 [==============================] - 1s 4ms/step - loss: 1.4996 - accuracy: 0.4857 - val_loss: 1.6470 - val_accuracy: 0.4338\n",
            "Epoch 8/40\n",
            "313/313 [==============================] - 1s 4ms/step - loss: 1.4735 - accuracy: 0.4896 - val_loss: 1.6499 - val_accuracy: 0.4348\n",
            "Epoch 9/40\n",
            "313/313 [==============================] - 2s 6ms/step - loss: 1.4444 - accuracy: 0.5012 - val_loss: 1.6406 - val_accuracy: 0.4355\n",
            "Epoch 10/40\n",
            "313/313 [==============================] - 1s 5ms/step - loss: 1.4215 - accuracy: 0.5060 - val_loss: 1.6403 - val_accuracy: 0.4388\n",
            "Epoch 11/40\n",
            "313/313 [==============================] - 1s 4ms/step - loss: 1.3997 - accuracy: 0.5165 - val_loss: 1.6286 - val_accuracy: 0.4398\n",
            "Epoch 12/40\n",
            "313/313 [==============================] - 1s 5ms/step - loss: 1.3773 - accuracy: 0.5233 - val_loss: 1.6166 - val_accuracy: 0.4425\n",
            "Epoch 13/40\n",
            "313/313 [==============================] - 1s 4ms/step - loss: 1.3594 - accuracy: 0.5274 - val_loss: 1.6186 - val_accuracy: 0.4429\n",
            "Epoch 14/40\n",
            "313/313 [==============================] - 1s 5ms/step - loss: 1.3294 - accuracy: 0.5399 - val_loss: 1.6200 - val_accuracy: 0.4459\n",
            "Epoch 15/40\n",
            "313/313 [==============================] - 1s 4ms/step - loss: 1.3130 - accuracy: 0.5455 - val_loss: 1.6164 - val_accuracy: 0.4462\n",
            "Epoch 16/40\n",
            "313/313 [==============================] - 1s 4ms/step - loss: 1.2909 - accuracy: 0.5529 - val_loss: 1.6317 - val_accuracy: 0.4448\n",
            "Epoch 17/40\n",
            "313/313 [==============================] - 1s 5ms/step - loss: 1.2707 - accuracy: 0.5586 - val_loss: 1.6239 - val_accuracy: 0.4491\n",
            "Epoch 18/40\n",
            "313/313 [==============================] - 2s 7ms/step - loss: 1.2426 - accuracy: 0.5705 - val_loss: 1.6345 - val_accuracy: 0.4511\n",
            "Epoch 19/40\n",
            "313/313 [==============================] - 1s 4ms/step - loss: 1.2293 - accuracy: 0.5752 - val_loss: 1.6440 - val_accuracy: 0.4520\n",
            "Epoch 20/40\n",
            "313/313 [==============================] - 1s 5ms/step - loss: 1.2085 - accuracy: 0.5775 - val_loss: 1.6471 - val_accuracy: 0.4456\n",
            "Epoch 21/40\n",
            "313/313 [==============================] - 1s 4ms/step - loss: 1.1854 - accuracy: 0.5905 - val_loss: 1.6476 - val_accuracy: 0.4511\n",
            "Epoch 22/40\n",
            "313/313 [==============================] - 1s 5ms/step - loss: 1.1693 - accuracy: 0.5937 - val_loss: 1.6515 - val_accuracy: 0.4485\n",
            "Epoch 23/40\n",
            "313/313 [==============================] - 1s 4ms/step - loss: 1.1535 - accuracy: 0.6015 - val_loss: 1.6570 - val_accuracy: 0.4511\n",
            "Epoch 24/40\n",
            "313/313 [==============================] - 1s 4ms/step - loss: 1.1287 - accuracy: 0.6123 - val_loss: 1.6681 - val_accuracy: 0.4488\n",
            "Epoch 25/40\n",
            "313/313 [==============================] - 1s 4ms/step - loss: 1.1094 - accuracy: 0.6158 - val_loss: 1.6728 - val_accuracy: 0.4474\n",
            "Epoch 26/40\n",
            "313/313 [==============================] - 2s 6ms/step - loss: 1.1062 - accuracy: 0.6176 - val_loss: 1.6833 - val_accuracy: 0.4480\n",
            "Epoch 27/40\n",
            "313/313 [==============================] - 1s 4ms/step - loss: 1.0854 - accuracy: 0.6234 - val_loss: 1.6982 - val_accuracy: 0.4504\n",
            "Epoch 28/40\n",
            "313/313 [==============================] - 1s 4ms/step - loss: 1.0683 - accuracy: 0.6331 - val_loss: 1.7001 - val_accuracy: 0.4466\n",
            "Epoch 29/40\n",
            "313/313 [==============================] - 1s 4ms/step - loss: 1.0449 - accuracy: 0.6413 - val_loss: 1.7061 - val_accuracy: 0.4501\n",
            "Epoch 30/40\n",
            "313/313 [==============================] - 1s 4ms/step - loss: 1.0264 - accuracy: 0.6435 - val_loss: 1.7334 - val_accuracy: 0.4455\n",
            "Epoch 31/40\n",
            "313/313 [==============================] - 1s 4ms/step - loss: 1.0112 - accuracy: 0.6509 - val_loss: 1.7423 - val_accuracy: 0.4435\n",
            "Epoch 32/40\n",
            "313/313 [==============================] - 1s 5ms/step - loss: 1.0026 - accuracy: 0.6538 - val_loss: 1.7492 - val_accuracy: 0.4502\n",
            "Epoch 33/40\n",
            "313/313 [==============================] - 1s 4ms/step - loss: 0.9803 - accuracy: 0.6617 - val_loss: 1.7619 - val_accuracy: 0.4493\n",
            "Epoch 34/40\n",
            "313/313 [==============================] - 2s 5ms/step - loss: 0.9632 - accuracy: 0.6681 - val_loss: 1.7549 - val_accuracy: 0.4485\n",
            "Epoch 35/40\n",
            "313/313 [==============================] - 2s 5ms/step - loss: 0.9517 - accuracy: 0.6757 - val_loss: 1.7923 - val_accuracy: 0.4442\n",
            "Epoch 36/40\n",
            "313/313 [==============================] - 1s 4ms/step - loss: 0.9357 - accuracy: 0.6782 - val_loss: 1.7840 - val_accuracy: 0.4476\n",
            "Epoch 37/40\n",
            "313/313 [==============================] - 1s 5ms/step - loss: 0.9253 - accuracy: 0.6840 - val_loss: 1.8156 - val_accuracy: 0.4454\n",
            "Epoch 38/40\n",
            "313/313 [==============================] - 1s 5ms/step - loss: 0.9106 - accuracy: 0.6878 - val_loss: 1.8274 - val_accuracy: 0.4434\n",
            "Epoch 39/40\n",
            "313/313 [==============================] - 1s 5ms/step - loss: 0.8999 - accuracy: 0.6916 - val_loss: 1.8364 - val_accuracy: 0.4400\n",
            "Epoch 40/40\n",
            "313/313 [==============================] - 1s 4ms/step - loss: 0.8774 - accuracy: 0.6999 - val_loss: 1.8601 - val_accuracy: 0.4388\n"
          ]
        }
      ]
    },
    {
      "cell_type": "markdown",
      "metadata": {
        "id": "uFqhzV85xprJ"
      },
      "source": [
        "Let's plot the training and validation loss and accuracy curves:"
      ]
    },
    {
      "cell_type": "code",
      "metadata": {
        "id": "BYmXGkLCxprK",
        "colab": {
          "base_uri": "https://localhost:8080/",
          "height": 541
        },
        "outputId": "d090944d-448f-412f-8ac8-aeb494d8d2b7"
      },
      "source": [
        "def plot_history(network_history):\n",
        "    plt.figure()\n",
        "    plt.xlabel('Epochs')\n",
        "    plt.ylabel('Loss')\n",
        "    plt.plot(network_history.history['loss'])\n",
        "    plt.plot(network_history.history['val_loss'])\n",
        "    plt.legend(['Training', 'Validation'])\n",
        "\n",
        "    plt.figure()\n",
        "    plt.xlabel('Epochs')\n",
        "    plt.ylabel('Accuracy')\n",
        "    plt.plot(network_history.history['accuracy'])\n",
        "    plt.plot(network_history.history['val_accuracy'])\n",
        "    plt.legend(['Training', 'Validation'], loc='lower right')\n",
        "    plt.show()\n",
        "\n",
        "plot_history(network_history)"
      ],
      "execution_count": 18,
      "outputs": [
        {
          "output_type": "display_data",
          "data": {
            "text/plain": [
              "<Figure size 432x288 with 1 Axes>"
            ],
            "image/png": "[encoded data removed]"
          },
          "metadata": {
            "needs_background": "light"
          }
        },
        {
          "output_type": "display_data",
          "data": {
            "text/plain": [
              "<Figure size 432x288 with 1 Axes>"
            ],
            "image/png": "[encoded data removed]"
          },
          "metadata": {
            "needs_background": "light"
          }
        }
      ]
    },
    {
      "cell_type": "markdown",
      "source": [
        "What do you think? Does it overfit? "
      ],
      "metadata": {
        "id": "tgG7QeXF-dx6"
      }
    },
    {
      "cell_type": "markdown",
      "metadata": {
        "id": "_Q9rIeBBxprO"
      },
      "source": [
        "# Inspecting the model"
      ]
    },
    {
      "cell_type": "code",
      "metadata": {
        "id": "6r2AmmoMxprP",
        "colab": {
          "base_uri": "https://localhost:8080/"
        },
        "outputId": "00244699-d18f-465a-f48e-eaa7505baa3c"
      },
      "source": [
        "model.summary()"
      ],
      "execution_count": 19,
      "outputs": [
        {
          "output_type": "stream",
          "name": "stdout",
          "text": [
            "Model: \"sequential\"\n",
            "_________________________________________________________________\n",
            " Layer (type)                Output Shape              Param #   \n",
            "=================================================================\n",
            " dense (Dense)               (None, 128)               393344    \n",
            "                                                                 \n",
            " dense_1 (Dense)             (None, 128)               16512     \n",
            "                                                                 \n",
            " dense_2 (Dense)             (None, 10)                1290      \n",
            "                                                                 \n",
            "=================================================================\n",
            "Total params: 411,146\n",
            "Trainable params: 411,146\n",
            "Non-trainable params: 0\n",
            "_________________________________________________________________\n"
          ]
        }
      ]
    },
    {
      "cell_type": "code",
      "metadata": {
        "id": "D3-bVDVuxprS",
        "colab": {
          "base_uri": "https://localhost:8080/"
        },
        "outputId": "1207f5d9-0bd5-4b31-f130-1a2a399dd999"
      },
      "source": [
        "print('Input: ', model.input)"
      ],
      "execution_count": 20,
      "outputs": [
        {
          "output_type": "stream",
          "name": "stdout",
          "text": [
            "Input:  KerasTensor(type_spec=TensorSpec(shape=(None, 3072), dtype=tf.float32, name='dense_input'), name='dense_input', description=\"created by layer 'dense_input'\")\n"
          ]
        }
      ]
    },
    {
      "cell_type": "code",
      "metadata": {
        "id": "Da2OJ3DmxprX",
        "colab": {
          "base_uri": "https://localhost:8080/"
        },
        "outputId": "467c8fc7-deda-457c-f9a7-8eae9a4bdc2b"
      },
      "source": [
        "print('Layers:\\n')\n",
        "for layer in model.layers:\n",
        "    print(\"Layer's name: \", layer.name, ', trainable: ', layer.trainable)\n",
        "    print(layer.get_config(),'\\n')"
      ],
      "execution_count": 21,
      "outputs": [
        {
          "output_type": "stream",
          "name": "stdout",
          "text": [
            "Layers:\n",
            "\n",
            "Layer's name:  dense , trainable:  True\n",
            "{'name': 'dense', 'trainable': True, 'dtype': 'float32', 'batch_input_shape': (None, 3072), 'units': 128, 'activation': 'tanh', 'use_bias': True, 'kernel_initializer': {'class_name': 'GlorotUniform', 'config': {'seed': None}}, 'bias_initializer': {'class_name': 'Zeros', 'config': {}}, 'kernel_regularizer': None, 'bias_regularizer': None, 'activity_regularizer': None, 'kernel_constraint': None, 'bias_constraint': None} \n",
            "\n",
            "Layer's name:  dense_1 , trainable:  True\n",
            "{'name': 'dense_1', 'trainable': True, 'dtype': 'float32', 'units': 128, 'activation': 'tanh', 'use_bias': True, 'kernel_initializer': {'class_name': 'GlorotUniform', 'config': {'seed': None}}, 'bias_initializer': {'class_name': 'Zeros', 'config': {}}, 'kernel_regularizer': None, 'bias_regularizer': None, 'activity_regularizer': None, 'kernel_constraint': None, 'bias_constraint': None} \n",
            "\n",
            "Layer's name:  dense_2 , trainable:  True\n",
            "{'name': 'dense_2', 'trainable': True, 'dtype': 'float32', 'units': 10, 'activation': 'softmax', 'use_bias': True, 'kernel_initializer': {'class_name': 'GlorotUniform', 'config': {'seed': None}}, 'bias_initializer': {'class_name': 'Zeros', 'config': {}}, 'kernel_regularizer': None, 'bias_regularizer': None, 'activity_regularizer': None, 'kernel_constraint': None, 'bias_constraint': None} \n",
            "\n"
          ]
        }
      ]
    },
    {
      "cell_type": "code",
      "metadata": {
        "id": "AtVX3M3lxprc",
        "colab": {
          "base_uri": "https://localhost:8080/"
        },
        "outputId": "8562b650-1120-43c3-8b21-521c637c6ef2"
      },
      "source": [
        "print('Output: ', model.output)"
      ],
      "execution_count": 22,
      "outputs": [
        {
          "output_type": "stream",
          "name": "stdout",
          "text": [
            "Output:  KerasTensor(type_spec=TensorSpec(shape=(None, 10), dtype=tf.float32, name=None), name='dense_2/Softmax:0', description=\"created by layer 'dense_2'\")\n"
          ]
        }
      ]
    },
    {
      "cell_type": "markdown",
      "source": [
        "## 2.1. Exercise\n",
        "Introduce [early stopping](https://www.tensorflow.org/api_docs/python/tf/keras/callbacks/EarlyStopping) and [dropout](https://www.tensorflow.org/api_docs/python/tf/keras/layers/Dropout) with a rate between 0.1..0.5. Tips:\n",
        "\n",
        "* Insert the dropout layer between the two Dense layers. \n",
        "* Set the patience of early stopping to 5.\n",
        "* Set the number of epochs to a very high number.\n",
        "* Don't forget to restore best weights after early stopping. \n",
        "* And also set early stopping to monitor validation accuracy (the default value is validation loss -- which is categorical crossentropy now).\n",
        "\n",
        "Compile and train the model. Attempt to increase the validation accuracy as much as possible by making changes to the dropout rate. Inspect the effects of the modifications."
      ],
      "metadata": {
        "id": "E-hHfs9qA_iO"
      }
    },
    {
      "cell_type": "code",
      "source": [
        "es =EarlyStopping(\n",
        "    monitor='val_accuracy',\n",
        "    min_delta=0,\n",
        "    patience=5,\n",
        "    verbose=0,\n",
        "    mode='auto',\n",
        "    baseline=None,\n",
        "    restore_best_weights=True,\n",
        "    start_from_epoch=0\n",
        ")"
      ],
      "metadata": {
        "id": "NwXrPzOgEBG-"
      },
      "execution_count": 23,
      "outputs": []
    },
    {
      "cell_type": "code",
      "source": [
        "# model definition with dropout\n",
        "model = Sequential()\n",
        "model.add(Dense(128, activation='tanh', input_shape=(flattened_dim,)))\n",
        "model.add(Dropout(0.2,))\n",
        "model.add(Dense(128, activation='tanh'))\n",
        "model.add(Dense(nb_classes, activation='softmax'))\n",
        "\n",
        "# loss function and optimizer\n",
        "model.compile(loss='categorical_crossentropy', optimizer='adam', metrics=['accuracy'])"
      ],
      "metadata": {
        "id": "7hZEGzj8GFwP"
      },
      "execution_count": 24,
      "outputs": []
    },
    {
      "cell_type": "code",
      "source": [
        "# training with early stopping\n",
        "network_history = model.fit(X_train, Y_train, \n",
        "                            validation_data=(X_valid,Y_valid),\n",
        "                            batch_size=128,                             \n",
        "                            epochs=80, \n",
        "                            verbose=1, \n",
        "                            callbacks=es)"
      ],
      "metadata": {
        "id": "GCG54R-vGGWj",
        "colab": {
          "base_uri": "https://localhost:8080/"
        },
        "outputId": "d7a7ce75-9956-4b98-823a-83e85b185cde"
      },
      "execution_count": 25,
      "outputs": [
        {
          "output_type": "stream",
          "name": "stdout",
          "text": [
            "Epoch 1/80\n",
            "313/313 [==============================] - 3s 6ms/step - loss: 1.8654 - accuracy: 0.3440 - val_loss: 1.7618 - val_accuracy: 0.3898\n",
            "Epoch 2/80\n",
            "313/313 [==============================] - 1s 4ms/step - loss: 1.7482 - accuracy: 0.3873 - val_loss: 1.7251 - val_accuracy: 0.4012\n",
            "Epoch 3/80\n",
            "313/313 [==============================] - 2s 6ms/step - loss: 1.7004 - accuracy: 0.4089 - val_loss: 1.7002 - val_accuracy: 0.4101\n",
            "Epoch 4/80\n",
            "313/313 [==============================] - 1s 4ms/step - loss: 1.6783 - accuracy: 0.4150 - val_loss: 1.6769 - val_accuracy: 0.4181\n",
            "Epoch 5/80\n",
            "313/313 [==============================] - 1s 4ms/step - loss: 1.6433 - accuracy: 0.4274 - val_loss: 1.6653 - val_accuracy: 0.4230\n",
            "Epoch 6/80\n",
            "313/313 [==============================] - 1s 4ms/step - loss: 1.6196 - accuracy: 0.4379 - val_loss: 1.6552 - val_accuracy: 0.4274\n",
            "Epoch 7/80\n",
            "313/313 [==============================] - 1s 4ms/step - loss: 1.5941 - accuracy: 0.4457 - val_loss: 1.6446 - val_accuracy: 0.4304\n",
            "Epoch 8/80\n",
            "313/313 [==============================] - 1s 5ms/step - loss: 1.5772 - accuracy: 0.4500 - val_loss: 1.6259 - val_accuracy: 0.4369\n",
            "Epoch 9/80\n",
            "313/313 [==============================] - 1s 4ms/step - loss: 1.5490 - accuracy: 0.4610 - val_loss: 1.6092 - val_accuracy: 0.4426\n",
            "Epoch 10/80\n",
            "313/313 [==============================] - 1s 5ms/step - loss: 1.5390 - accuracy: 0.4637 - val_loss: 1.6159 - val_accuracy: 0.4367\n",
            "Epoch 11/80\n",
            "313/313 [==============================] - 2s 6ms/step - loss: 1.5243 - accuracy: 0.4697 - val_loss: 1.6071 - val_accuracy: 0.4381\n",
            "Epoch 12/80\n",
            "313/313 [==============================] - 2s 5ms/step - loss: 1.5065 - accuracy: 0.4737 - val_loss: 1.5871 - val_accuracy: 0.4473\n",
            "Epoch 13/80\n",
            "313/313 [==============================] - 1s 4ms/step - loss: 1.4892 - accuracy: 0.4786 - val_loss: 1.5835 - val_accuracy: 0.4486\n",
            "Epoch 14/80\n",
            "313/313 [==============================] - 1s 5ms/step - loss: 1.4839 - accuracy: 0.4798 - val_loss: 1.5718 - val_accuracy: 0.4526\n",
            "Epoch 15/80\n",
            "313/313 [==============================] - 1s 4ms/step - loss: 1.4651 - accuracy: 0.4871 - val_loss: 1.5695 - val_accuracy: 0.4577\n",
            "Epoch 16/80\n",
            "313/313 [==============================] - 1s 5ms/step - loss: 1.4579 - accuracy: 0.4897 - val_loss: 1.5531 - val_accuracy: 0.4643\n",
            "Epoch 17/80\n",
            "313/313 [==============================] - 1s 4ms/step - loss: 1.4439 - accuracy: 0.4922 - val_loss: 1.5592 - val_accuracy: 0.4553\n",
            "Epoch 18/80\n",
            "313/313 [==============================] - 2s 5ms/step - loss: 1.4379 - accuracy: 0.4954 - val_loss: 1.5466 - val_accuracy: 0.4600\n",
            "Epoch 19/80\n",
            "313/313 [==============================] - 2s 5ms/step - loss: 1.4262 - accuracy: 0.5002 - val_loss: 1.5495 - val_accuracy: 0.4592\n",
            "Epoch 20/80\n",
            "313/313 [==============================] - 2s 6ms/step - loss: 1.4178 - accuracy: 0.5047 - val_loss: 1.5422 - val_accuracy: 0.4618\n",
            "Epoch 21/80\n",
            "313/313 [==============================] - 1s 4ms/step - loss: 1.3959 - accuracy: 0.5095 - val_loss: 1.5366 - val_accuracy: 0.4661\n",
            "Epoch 22/80\n",
            "313/313 [==============================] - 1s 5ms/step - loss: 1.3928 - accuracy: 0.5101 - val_loss: 1.5351 - val_accuracy: 0.4658\n",
            "Epoch 23/80\n",
            "313/313 [==============================] - 1s 4ms/step - loss: 1.3815 - accuracy: 0.5122 - val_loss: 1.5222 - val_accuracy: 0.4653\n",
            "Epoch 24/80\n",
            "313/313 [==============================] - 1s 5ms/step - loss: 1.3755 - accuracy: 0.5132 - val_loss: 1.5199 - val_accuracy: 0.4682\n",
            "Epoch 25/80\n",
            "313/313 [==============================] - 1s 5ms/step - loss: 1.3684 - accuracy: 0.5185 - val_loss: 1.5232 - val_accuracy: 0.4700\n",
            "Epoch 26/80\n",
            "313/313 [==============================] - 1s 5ms/step - loss: 1.3589 - accuracy: 0.5216 - val_loss: 1.5121 - val_accuracy: 0.4724\n",
            "Epoch 27/80\n",
            "313/313 [==============================] - 1s 5ms/step - loss: 1.3483 - accuracy: 0.5263 - val_loss: 1.5099 - val_accuracy: 0.4745\n",
            "Epoch 28/80\n",
            "313/313 [==============================] - 2s 6ms/step - loss: 1.3383 - accuracy: 0.5285 - val_loss: 1.5002 - val_accuracy: 0.4800\n",
            "Epoch 29/80\n",
            "313/313 [==============================] - 1s 4ms/step - loss: 1.3295 - accuracy: 0.5311 - val_loss: 1.5152 - val_accuracy: 0.4726\n",
            "Epoch 30/80\n",
            "313/313 [==============================] - 1s 5ms/step - loss: 1.3243 - accuracy: 0.5332 - val_loss: 1.5159 - val_accuracy: 0.4735\n",
            "Epoch 31/80\n",
            "313/313 [==============================] - 1s 5ms/step - loss: 1.3235 - accuracy: 0.5336 - val_loss: 1.5156 - val_accuracy: 0.4739\n",
            "Epoch 32/80\n",
            "313/313 [==============================] - 1s 5ms/step - loss: 1.3031 - accuracy: 0.5385 - val_loss: 1.5123 - val_accuracy: 0.4732\n",
            "Epoch 33/80\n",
            "313/313 [==============================] - 1s 4ms/step - loss: 1.3054 - accuracy: 0.5400 - val_loss: 1.5136 - val_accuracy: 0.4726\n"
          ]
        }
      ]
    },
    {
      "cell_type": "markdown",
      "source": [
        "## 2.2 Exercise\n",
        "Change the [activation function of the dense layers (except the last one)](https://www.tensorflow.org/api_docs/python/tf/keras/layers/Dense) to rectified linear unit (ReLU) and the [weight initialization](https://www.tensorflow.org/api_docs/python/tf/keras/initializers) to the theoretically best one. Use the original model's code.\n",
        "\n",
        "Compile and train the model. Inspect the effects of the modifications."
      ],
      "metadata": {
        "id": "zQCDM1o1BBtF"
      }
    },
    {
      "cell_type": "code",
      "source": [
        "# model definition with relu\n",
        "model = Sequential()\n",
        "model.add(Dense(128, activation='relu', kernel_initializer=HeNormal, input_shape=(flattened_dim,)))\n",
        "model.add(Dense(128, activation='relu', kernel_initializer=HeNormal))\n",
        "model.add(Dense(nb_classes, activation='softmax'))\n",
        "\n",
        "# loss function and optimizer\n",
        "model.compile(loss='categorical_crossentropy', optimizer='adam', metrics=['accuracy'])"
      ],
      "metadata": {
        "id": "YjHAAh-wGu9O"
      },
      "execution_count": 26,
      "outputs": []
    },
    {
      "cell_type": "code",
      "source": [
        "# training\n",
        "network_history = model.fit(X_train, Y_train, \n",
        "                            validation_data=(X_valid,Y_valid),\n",
        "                            batch_size=128,                             \n",
        "                            epochs=40, \n",
        "                            verbose=1)"
      ],
      "metadata": {
        "id": "rarwKM1wGxMz",
        "colab": {
          "base_uri": "https://localhost:8080/"
        },
        "outputId": "b2fcdf70-8ace-4b7a-ee58-083de82305b2"
      },
      "execution_count": 27,
      "outputs": [
        {
          "output_type": "stream",
          "name": "stdout",
          "text": [
            "Epoch 1/40\n",
            "313/313 [==============================] - 3s 6ms/step - loss: 1.8505 - accuracy: 0.3756 - val_loss: 1.6998 - val_accuracy: 0.4082\n",
            "Epoch 2/40\n",
            "313/313 [==============================] - 2s 6ms/step - loss: 1.5460 - accuracy: 0.4560 - val_loss: 1.6010 - val_accuracy: 0.4402\n",
            "Epoch 3/40\n",
            "313/313 [==============================] - 2s 5ms/step - loss: 1.4221 - accuracy: 0.4998 - val_loss: 1.5456 - val_accuracy: 0.4642\n",
            "Epoch 4/40\n",
            "313/313 [==============================] - 1s 4ms/step - loss: 1.3406 - accuracy: 0.5271 - val_loss: 1.5410 - val_accuracy: 0.4656\n",
            "Epoch 5/40\n",
            "313/313 [==============================] - 1s 5ms/step - loss: 1.2704 - accuracy: 0.5512 - val_loss: 1.4972 - val_accuracy: 0.4846\n",
            "Epoch 6/40\n",
            "313/313 [==============================] - 1s 4ms/step - loss: 1.2136 - accuracy: 0.5753 - val_loss: 1.5223 - val_accuracy: 0.4881\n",
            "Epoch 7/40\n",
            "313/313 [==============================] - 1s 5ms/step - loss: 1.1544 - accuracy: 0.5918 - val_loss: 1.5323 - val_accuracy: 0.4758\n",
            "Epoch 8/40\n",
            "313/313 [==============================] - 1s 4ms/step - loss: 1.1143 - accuracy: 0.6065 - val_loss: 1.5524 - val_accuracy: 0.4777\n",
            "Epoch 9/40\n",
            "313/313 [==============================] - 1s 5ms/step - loss: 1.0602 - accuracy: 0.6241 - val_loss: 1.5479 - val_accuracy: 0.4921\n",
            "Epoch 10/40\n",
            "313/313 [==============================] - 2s 6ms/step - loss: 1.0156 - accuracy: 0.6425 - val_loss: 1.5684 - val_accuracy: 0.4934\n",
            "Epoch 11/40\n",
            "313/313 [==============================] - 2s 5ms/step - loss: 0.9713 - accuracy: 0.6585 - val_loss: 1.6001 - val_accuracy: 0.4887\n",
            "Epoch 12/40\n",
            "313/313 [==============================] - 1s 4ms/step - loss: 0.9335 - accuracy: 0.6690 - val_loss: 1.5996 - val_accuracy: 0.4919\n",
            "Epoch 13/40\n",
            "313/313 [==============================] - 1s 5ms/step - loss: 0.8962 - accuracy: 0.6842 - val_loss: 1.6575 - val_accuracy: 0.4906\n",
            "Epoch 14/40\n",
            "313/313 [==============================] - 1s 5ms/step - loss: 0.8539 - accuracy: 0.6992 - val_loss: 1.7009 - val_accuracy: 0.4919\n",
            "Epoch 15/40\n",
            "313/313 [==============================] - 1s 4ms/step - loss: 0.8229 - accuracy: 0.7074 - val_loss: 1.7070 - val_accuracy: 0.4876\n",
            "Epoch 16/40\n",
            "313/313 [==============================] - 1s 5ms/step - loss: 0.7918 - accuracy: 0.7218 - val_loss: 1.7697 - val_accuracy: 0.4850\n",
            "Epoch 17/40\n",
            "313/313 [==============================] - 1s 4ms/step - loss: 0.7604 - accuracy: 0.7321 - val_loss: 1.8216 - val_accuracy: 0.4913\n",
            "Epoch 18/40\n",
            "313/313 [==============================] - 2s 5ms/step - loss: 0.7260 - accuracy: 0.7434 - val_loss: 1.8374 - val_accuracy: 0.4867\n",
            "Epoch 19/40\n",
            "313/313 [==============================] - 2s 6ms/step - loss: 0.6933 - accuracy: 0.7553 - val_loss: 1.8928 - val_accuracy: 0.4852\n",
            "Epoch 20/40\n",
            "313/313 [==============================] - 1s 4ms/step - loss: 0.6672 - accuracy: 0.7642 - val_loss: 1.9196 - val_accuracy: 0.4836\n",
            "Epoch 21/40\n",
            "313/313 [==============================] - 1s 5ms/step - loss: 0.6376 - accuracy: 0.7763 - val_loss: 1.9893 - val_accuracy: 0.4790\n",
            "Epoch 22/40\n",
            "313/313 [==============================] - 1s 4ms/step - loss: 0.6099 - accuracy: 0.7843 - val_loss: 2.0616 - val_accuracy: 0.4824\n",
            "Epoch 23/40\n",
            "313/313 [==============================] - 1s 5ms/step - loss: 0.5839 - accuracy: 0.7940 - val_loss: 2.0813 - val_accuracy: 0.4855\n",
            "Epoch 24/40\n",
            "313/313 [==============================] - 1s 4ms/step - loss: 0.5588 - accuracy: 0.8029 - val_loss: 2.1733 - val_accuracy: 0.4783\n",
            "Epoch 25/40\n",
            "313/313 [==============================] - 1s 4ms/step - loss: 0.5413 - accuracy: 0.8100 - val_loss: 2.2237 - val_accuracy: 0.4772\n",
            "Epoch 26/40\n",
            "313/313 [==============================] - 1s 5ms/step - loss: 0.5252 - accuracy: 0.8165 - val_loss: 2.3212 - val_accuracy: 0.4715\n",
            "Epoch 27/40\n",
            "313/313 [==============================] - 2s 6ms/step - loss: 0.5049 - accuracy: 0.8225 - val_loss: 2.3956 - val_accuracy: 0.4780\n",
            "Epoch 28/40\n",
            "313/313 [==============================] - 1s 5ms/step - loss: 0.4792 - accuracy: 0.8303 - val_loss: 2.3747 - val_accuracy: 0.4812\n",
            "Epoch 29/40\n",
            "313/313 [==============================] - 1s 5ms/step - loss: 0.4592 - accuracy: 0.8389 - val_loss: 2.5106 - val_accuracy: 0.4719\n",
            "Epoch 30/40\n",
            "313/313 [==============================] - 1s 5ms/step - loss: 0.4512 - accuracy: 0.8410 - val_loss: 2.6188 - val_accuracy: 0.4715\n",
            "Epoch 31/40\n",
            "313/313 [==============================] - 1s 5ms/step - loss: 0.4336 - accuracy: 0.8467 - val_loss: 2.6442 - val_accuracy: 0.4768\n",
            "Epoch 32/40\n",
            "313/313 [==============================] - 1s 4ms/step - loss: 0.4133 - accuracy: 0.8544 - val_loss: 2.6800 - val_accuracy: 0.4689\n",
            "Epoch 33/40\n",
            "313/313 [==============================] - 1s 4ms/step - loss: 0.4139 - accuracy: 0.8553 - val_loss: 2.7495 - val_accuracy: 0.4705\n",
            "Epoch 34/40\n",
            "313/313 [==============================] - 1s 5ms/step - loss: 0.3948 - accuracy: 0.8617 - val_loss: 2.8188 - val_accuracy: 0.4700\n",
            "Epoch 35/40\n",
            "313/313 [==============================] - 2s 6ms/step - loss: 0.3653 - accuracy: 0.8717 - val_loss: 2.9039 - val_accuracy: 0.4703\n",
            "Epoch 36/40\n",
            "313/313 [==============================] - 1s 5ms/step - loss: 0.3729 - accuracy: 0.8690 - val_loss: 2.9108 - val_accuracy: 0.4643\n",
            "Epoch 37/40\n",
            "313/313 [==============================] - 1s 4ms/step - loss: 0.3520 - accuracy: 0.8750 - val_loss: 3.0420 - val_accuracy: 0.4657\n",
            "Epoch 38/40\n",
            "313/313 [==============================] - 1s 4ms/step - loss: 0.3491 - accuracy: 0.8771 - val_loss: 3.1006 - val_accuracy: 0.4743\n",
            "Epoch 39/40\n",
            "313/313 [==============================] - 1s 4ms/step - loss: 0.3243 - accuracy: 0.8862 - val_loss: 3.1869 - val_accuracy: 0.4731\n",
            "Epoch 40/40\n",
            "313/313 [==============================] - 1s 4ms/step - loss: 0.3168 - accuracy: 0.8891 - val_loss: 3.2221 - val_accuracy: 0.4663\n"
          ]
        }
      ]
    },
    {
      "cell_type": "markdown",
      "source": [
        "# 2.3. Exercise\n",
        "Based on the modifications above, and by any further modifications (e.g. more layers, less layers, more neurons/layer, etc.) to the model design, find a combination that is able to achieve **validation accuracy, that is higher than 53%**.\n"
      ],
      "metadata": {
        "id": "j1tGVPdD-pp3"
      }
    },
    {
      "cell_type": "code",
      "source": [
        "es =EarlyStopping(\n",
        "    monitor='val_accuracy',\n",
        "    min_delta=0,\n",
        "    patience=5,\n",
        "    verbose=0,\n",
        "    mode='auto',\n",
        "    baseline=None,\n",
        "    restore_best_weights=True,\n",
        "    start_from_epoch=0\n",
        ")"
      ],
      "metadata": {
        "id": "5dBQxJHIHrbd"
      },
      "execution_count": 28,
      "outputs": []
    },
    {
      "cell_type": "code",
      "source": [
        "# model definition\n",
        "model = Sequential()\n",
        "model.add(Dense(300, activation='relu', kernel_initializer=HeNormal, input_shape=(flattened_dim,)))\n",
        "model.add(Dropout(0.4))\n",
        "model.add(Dense(300, activation='relu', kernel_initializer=HeNormal))\n",
        "model.add(Dropout(0.4))\n",
        "model.add(Dense(70, activation='relu', kernel_initializer=HeNormal))\n",
        "model.add(Dense(nb_classes, activation='softmax'))\n",
        "# loss function and optimizer\n",
        "model.compile(loss='categorical_crossentropy', optimizer='adam', metrics=['accuracy'])\n"
      ],
      "metadata": {
        "id": "PuxHOqLt-3Nd"
      },
      "execution_count": 29,
      "outputs": []
    },
    {
      "cell_type": "code",
      "source": [
        "# training\n",
        "network_history = model.fit(X_train, Y_train, \n",
        "                            validation_data=(X_valid,Y_valid),\n",
        "                            batch_size=128,                             \n",
        "                            epochs=80, \n",
        "                            verbose=1, \n",
        "                            callbacks=es)"
      ],
      "metadata": {
        "id": "u8tFNCNVHyt9",
        "colab": {
          "base_uri": "https://localhost:8080/"
        },
        "outputId": "71104500-a656-4562-b76e-f04132e68e96"
      },
      "execution_count": 30,
      "outputs": [
        {
          "output_type": "stream",
          "name": "stdout",
          "text": [
            "Epoch 1/80\n",
            "313/313 [==============================] - 4s 8ms/step - loss: 2.1363 - accuracy: 0.2568 - val_loss: 1.8194 - val_accuracy: 0.3428\n",
            "Epoch 2/80\n",
            "313/313 [==============================] - 2s 5ms/step - loss: 1.8289 - accuracy: 0.3392 - val_loss: 1.7247 - val_accuracy: 0.3827\n",
            "Epoch 3/80\n",
            "313/313 [==============================] - 2s 5ms/step - loss: 1.7401 - accuracy: 0.3747 - val_loss: 1.6495 - val_accuracy: 0.4184\n",
            "Epoch 4/80\n",
            "313/313 [==============================] - 2s 5ms/step - loss: 1.6803 - accuracy: 0.3986 - val_loss: 1.5943 - val_accuracy: 0.4434\n",
            "Epoch 5/80\n",
            "313/313 [==============================] - 1s 5ms/step - loss: 1.6380 - accuracy: 0.4187 - val_loss: 1.5532 - val_accuracy: 0.4536\n",
            "Epoch 6/80\n",
            "313/313 [==============================] - 2s 5ms/step - loss: 1.6010 - accuracy: 0.4305 - val_loss: 1.5263 - val_accuracy: 0.4658\n",
            "Epoch 7/80\n",
            "313/313 [==============================] - 2s 5ms/step - loss: 1.5743 - accuracy: 0.4424 - val_loss: 1.5222 - val_accuracy: 0.4663\n",
            "Epoch 8/80\n",
            "313/313 [==============================] - 2s 6ms/step - loss: 1.5464 - accuracy: 0.4505 - val_loss: 1.4993 - val_accuracy: 0.4776\n",
            "Epoch 9/80\n",
            "313/313 [==============================] - 2s 6ms/step - loss: 1.5216 - accuracy: 0.4602 - val_loss: 1.4722 - val_accuracy: 0.4910\n",
            "Epoch 10/80\n",
            "313/313 [==============================] - 2s 5ms/step - loss: 1.5018 - accuracy: 0.4687 - val_loss: 1.4638 - val_accuracy: 0.4912\n",
            "Epoch 11/80\n",
            "313/313 [==============================] - 2s 5ms/step - loss: 1.4836 - accuracy: 0.4726 - val_loss: 1.4699 - val_accuracy: 0.4873\n",
            "Epoch 12/80\n",
            "313/313 [==============================] - 1s 5ms/step - loss: 1.4656 - accuracy: 0.4821 - val_loss: 1.4535 - val_accuracy: 0.4936\n",
            "Epoch 13/80\n",
            "313/313 [==============================] - 1s 5ms/step - loss: 1.4523 - accuracy: 0.4846 - val_loss: 1.4255 - val_accuracy: 0.5042\n",
            "Epoch 14/80\n",
            "313/313 [==============================] - 1s 5ms/step - loss: 1.4399 - accuracy: 0.4897 - val_loss: 1.4312 - val_accuracy: 0.5035\n",
            "Epoch 15/80\n",
            "313/313 [==============================] - 2s 5ms/step - loss: 1.4205 - accuracy: 0.4953 - val_loss: 1.4160 - val_accuracy: 0.5075\n",
            "Epoch 16/80\n",
            "313/313 [==============================] - 2s 6ms/step - loss: 1.4019 - accuracy: 0.5052 - val_loss: 1.4066 - val_accuracy: 0.5127\n",
            "Epoch 17/80\n",
            "313/313 [==============================] - 2s 5ms/step - loss: 1.3949 - accuracy: 0.5062 - val_loss: 1.3995 - val_accuracy: 0.5129\n",
            "Epoch 18/80\n",
            "313/313 [==============================] - 2s 5ms/step - loss: 1.3834 - accuracy: 0.5102 - val_loss: 1.4040 - val_accuracy: 0.5093\n",
            "Epoch 19/80\n",
            "313/313 [==============================] - 1s 5ms/step - loss: 1.3713 - accuracy: 0.5142 - val_loss: 1.3738 - val_accuracy: 0.5230\n",
            "Epoch 20/80\n",
            "313/313 [==============================] - 2s 5ms/step - loss: 1.3524 - accuracy: 0.5202 - val_loss: 1.3724 - val_accuracy: 0.5217\n",
            "Epoch 21/80\n",
            "313/313 [==============================] - 2s 5ms/step - loss: 1.3494 - accuracy: 0.5238 - val_loss: 1.3654 - val_accuracy: 0.5294\n",
            "Epoch 22/80\n",
            "313/313 [==============================] - 2s 5ms/step - loss: 1.3347 - accuracy: 0.5291 - val_loss: 1.3658 - val_accuracy: 0.5318\n",
            "Epoch 23/80\n",
            "313/313 [==============================] - 2s 6ms/step - loss: 1.3195 - accuracy: 0.5351 - val_loss: 1.3748 - val_accuracy: 0.5251\n",
            "Epoch 24/80\n",
            "313/313 [==============================] - 2s 6ms/step - loss: 1.3110 - accuracy: 0.5333 - val_loss: 1.3546 - val_accuracy: 0.5229\n",
            "Epoch 25/80\n",
            "313/313 [==============================] - 1s 5ms/step - loss: 1.2968 - accuracy: 0.5397 - val_loss: 1.3504 - val_accuracy: 0.5291\n",
            "Epoch 26/80\n",
            "313/313 [==============================] - 2s 5ms/step - loss: 1.2942 - accuracy: 0.5399 - val_loss: 1.3317 - val_accuracy: 0.5367\n",
            "Epoch 27/80\n",
            "313/313 [==============================] - 1s 5ms/step - loss: 1.2805 - accuracy: 0.5473 - val_loss: 1.3385 - val_accuracy: 0.5306\n",
            "Epoch 28/80\n",
            "313/313 [==============================] - 2s 5ms/step - loss: 1.2746 - accuracy: 0.5501 - val_loss: 1.3351 - val_accuracy: 0.5306\n",
            "Epoch 29/80\n",
            "313/313 [==============================] - 1s 5ms/step - loss: 1.2706 - accuracy: 0.5492 - val_loss: 1.3401 - val_accuracy: 0.5334\n",
            "Epoch 30/80\n",
            "313/313 [==============================] - 2s 5ms/step - loss: 1.2519 - accuracy: 0.5586 - val_loss: 1.3415 - val_accuracy: 0.5326\n",
            "Epoch 31/80\n",
            "313/313 [==============================] - 2s 6ms/step - loss: 1.2447 - accuracy: 0.5594 - val_loss: 1.3281 - val_accuracy: 0.5378\n",
            "Epoch 32/80\n",
            "313/313 [==============================] - 2s 5ms/step - loss: 1.2391 - accuracy: 0.5608 - val_loss: 1.3328 - val_accuracy: 0.5289\n",
            "Epoch 33/80\n",
            "313/313 [==============================] - 2s 5ms/step - loss: 1.2283 - accuracy: 0.5648 - val_loss: 1.3377 - val_accuracy: 0.5322\n",
            "Epoch 34/80\n",
            "313/313 [==============================] - 2s 5ms/step - loss: 1.2262 - accuracy: 0.5684 - val_loss: 1.3173 - val_accuracy: 0.5381\n",
            "Epoch 35/80\n",
            "313/313 [==============================] - 2s 5ms/step - loss: 1.2220 - accuracy: 0.5687 - val_loss: 1.3120 - val_accuracy: 0.5417\n",
            "Epoch 36/80\n",
            "313/313 [==============================] - 2s 5ms/step - loss: 1.2089 - accuracy: 0.5720 - val_loss: 1.3331 - val_accuracy: 0.5291\n",
            "Epoch 37/80\n",
            "313/313 [==============================] - 2s 5ms/step - loss: 1.1999 - accuracy: 0.5745 - val_loss: 1.3250 - val_accuracy: 0.5382\n",
            "Epoch 38/80\n",
            "313/313 [==============================] - 2s 6ms/step - loss: 1.1922 - accuracy: 0.5759 - val_loss: 1.3217 - val_accuracy: 0.5322\n",
            "Epoch 39/80\n",
            "313/313 [==============================] - 2s 6ms/step - loss: 1.1866 - accuracy: 0.5794 - val_loss: 1.3156 - val_accuracy: 0.5414\n",
            "Epoch 40/80\n",
            "313/313 [==============================] - 1s 5ms/step - loss: 1.1823 - accuracy: 0.5801 - val_loss: 1.3153 - val_accuracy: 0.5414\n"
          ]
        }
      ]
    },
    {
      "cell_type": "markdown",
      "source": [
        "# 3. Evaluation on test data and inference\n",
        "At this point, we will perform a basic evaluation and inference. With the model.evaluate function, the same metrics are calculated, that were used during training:"
      ],
      "metadata": {
        "id": "2FtKp-a2-A9m"
      }
    },
    {
      "cell_type": "code",
      "source": [
        "print(model.evaluate(X_test, Y_test))"
      ],
      "metadata": {
        "id": "I3_9wgDREUna",
        "colab": {
          "base_uri": "https://localhost:8080/"
        },
        "outputId": "cc806924-59e7-4c26-8c32-79616a94473d"
      },
      "execution_count": 31,
      "outputs": [
        {
          "output_type": "stream",
          "name": "stdout",
          "text": [
            "313/313 [==============================] - 1s 3ms/step - loss: 1.3017 - accuracy: 0.5369\n",
            "[1.3017245531082153, 0.536899983882904]\n"
          ]
        }
      ]
    },
    {
      "cell_type": "markdown",
      "source": [
        "we would like to see similar values, as in the validation set. If those are close to each other, then the generalization ability of the model is good (in case of an independent test-set)."
      ],
      "metadata": {
        "id": "ECHguBFtGL7f"
      }
    },
    {
      "cell_type": "markdown",
      "source": [
        "## 3.1. Exercise\n",
        "Predict the class of the first 10 elements in the test set, and compare the predicted values with the actual, target values in the test set. Hints:\n",
        "* you can use [model.predict](https://www.activestate.com/resources/quick-reads/how-to-use-a-model-to-do-predictions-with-keras/) for prediction\n",
        "* from the output you can select the largest value with the [argmax() function of Numpy](https://stackoverflow.com/questions/62358642/convert-one-hot-encoding-back-to-number-label). As there are multiple values, you have to call it with axis=1 parameter.\n",
        "* it is enought to compare the predictions and the targets by printing the values out and inspecting them."
      ],
      "metadata": {
        "id": "0Io4zYJeHjz6"
      }
    },
    {
      "cell_type": "code",
      "source": [
        "preds = model.predict(X_test[:10])\n",
        "preds_dense = np.argmax(preds,axis=1)"
      ],
      "metadata": {
        "id": "XEEyU7exILqF",
        "colab": {
          "base_uri": "https://localhost:8080/"
        },
        "outputId": "a25cfd48-6257-4a34-b26a-e203ba4b3ba0"
      },
      "execution_count": 32,
      "outputs": [
        {
          "output_type": "stream",
          "name": "stdout",
          "text": [
            "1/1 [==============================] - 0s 105ms/step\n"
          ]
        }
      ]
    },
    {
      "cell_type": "markdown",
      "source": [
        "Before comparision, you have to convert back the one-hot encoded target values the same way, as you converted the output of the neural network to class values with argmax() function."
      ],
      "metadata": {
        "id": "seZTEFI-I5cZ"
      }
    },
    {
      "cell_type": "code",
      "source": [
        "print(\"Target labels:\", np.argmax(Y_test[:10],axis=1))\n",
        "print(\"Predicted labels:\", preds_dense)"
      ],
      "metadata": {
        "id": "PHLvoMuIIkJ6",
        "colab": {
          "base_uri": "https://localhost:8080/"
        },
        "outputId": "dd90b390-6d56-482a-ecdd-6922997867a6"
      },
      "execution_count": 33,
      "outputs": [
        {
          "output_type": "stream",
          "name": "stdout",
          "text": [
            "Target labels: [3 8 8 0 6 6 1 6 3 1]\n",
            "Predicted labels: [3 8 0 8 4 6 1 6 3 1]\n"
          ]
        }
      ]
    }
  ]
}