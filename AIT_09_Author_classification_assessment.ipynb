{
  "nbformat": 4,
  "nbformat_minor": 0,
  "metadata": {
    "kernelspec": {
      "display_name": "Python 3",
      "language": "python",
      "name": "python3"
    },
    "language_info": {
      "codemirror_mode": {
        "name": "ipython",
        "version": 3
      },
      "file_extension": ".py",
      "mimetype": "text/x-python",
      "name": "python",
      "nbconvert_exporter": "python",
      "pygments_lexer": "ipython3",
      "version": "3.6.6"
    },
    "colab": {
      "provenance": [],
      "include_colab_link": true
    }
  },
  "cells": [
    {
      "cell_type": "markdown",
      "metadata": {
        "id": "view-in-github",
        "colab_type": "text"
      },
      "source": [
        "<a href=\"https://colab.research.google.com/github/szilaard/AIT2023/blob/main/AIT_09_Author_classification_assessment.ipynb\" target=\"_parent\"><img src=\"https://colab.research.google.com/assets/colab-badge.svg\" alt=\"Open In Colab\"/></a>"
      ]
    },
    {
      "cell_type": "markdown",
      "metadata": {
        "id": "_jiGtJu6u9ml"
      },
      "source": [
        "# Copyright\n",
        "\n",
        "<PRE>\n",
        "Copyright (c) 2021 Bálint Gyires-Tóth - All Rights Reserved\n",
        "You may use and modify this code for research and development purpuses.\n",
        "Use this code for educational purposes (self-paced or instructor led) without the permission of the author is prohibited.\n",
        "</PRE>"
      ]
    },
    {
      "cell_type": "markdown",
      "metadata": {
        "id": "oXyFC44jV-PP"
      },
      "source": [
        "# Author classification\n",
        "The task is to train a 1D CNN or an LSTM that is able to  classify text from two authors. The final model should be able to tell about a text with a given length (e.g. 60 characters) who wrote it. \n",
        "\n",
        "Please write the codes according to the following parts:"
      ]
    },
    {
      "cell_type": "markdown",
      "metadata": {
        "id": "jCnLoeGrHXsp"
      },
      "source": [
        "## Python module imports\n",
        "Import all Python modules that you would need during the Assignment."
      ]
    },
    {
      "cell_type": "code",
      "metadata": {
        "id": "7itbFGt3HXVT"
      },
      "source": [
        "from tensorflow.keras.models import Sequential\n",
        "from tensorflow.keras.layers import Dense, Activation, Dropout\n",
        "from tensorflow.keras.layers import LSTM\n",
        "from tensorflow.keras.optimizers import RMSprop\n",
        "from urllib.request import urlretrieve\n",
        "import numpy as np\n",
        "import random\n",
        "import sys\n",
        "import re, cgi\n",
        "import seaborn as sns\n",
        "from tensorflow.keras.callbacks import EarlyStopping"
      ],
      "execution_count": 1,
      "outputs": []
    },
    {
      "cell_type": "code",
      "source": [
        "!pip install tika"
      ],
      "metadata": {
        "colab": {
          "base_uri": "https://localhost:8080/"
        },
        "id": "y3X_xIGTWekD",
        "outputId": "937211eb-2dce-4dba-ab92-ca2a21574cde"
      },
      "execution_count": 2,
      "outputs": [
        {
          "output_type": "stream",
          "name": "stdout",
          "text": [
            "Looking in indexes: https://pypi.org/simple, https://us-python.pkg.dev/colab-wheels/public/simple/\n",
            "Requirement already satisfied: tika in /usr/local/lib/python3.9/dist-packages (2.6.0)\n",
            "Requirement already satisfied: requests in /usr/local/lib/python3.9/dist-packages (from tika) (2.27.1)\n",
            "Requirement already satisfied: setuptools in /usr/local/lib/python3.9/dist-packages (from tika) (67.6.1)\n",
            "Requirement already satisfied: idna<4,>=2.5 in /usr/local/lib/python3.9/dist-packages (from requests->tika) (3.4)\n",
            "Requirement already satisfied: urllib3<1.27,>=1.21.1 in /usr/local/lib/python3.9/dist-packages (from requests->tika) (1.26.15)\n",
            "Requirement already satisfied: charset-normalizer~=2.0.0 in /usr/local/lib/python3.9/dist-packages (from requests->tika) (2.0.12)\n",
            "Requirement already satisfied: certifi>=2017.4.17 in /usr/local/lib/python3.9/dist-packages (from requests->tika) (2022.12.7)\n"
          ]
        }
      ]
    },
    {
      "cell_type": "code",
      "source": [
        "from tika import parser"
      ],
      "metadata": {
        "id": "4TmrKN96Wb7d"
      },
      "execution_count": 3,
      "outputs": []
    },
    {
      "cell_type": "markdown",
      "metadata": {
        "id": "Hr617tEpHd8R"
      },
      "source": [
        "## Data acquisition\n",
        "Seek a possible dataset, you can use any source, e.g.\n",
        "* http://www.gutenberg.org/\n",
        "* https://www.kaggle.com/datasets\n",
        "* https://paperswithcode.com/datasets\n",
        "* if you would like to learn Hungarian, than e.g. https://mek.oszk.hu/\n",
        "\n",
        "You can download the text by hand (e.g. by copy-pasting some parts into txt files) or with Python. "
      ]
    },
    {
      "cell_type": "code",
      "metadata": {
        "id": "NgkdQxHqHdZB",
        "colab": {
          "base_uri": "https://localhost:8080/"
        },
        "outputId": "e73e7e26-828b-40f9-82ce-5943fa1af865"
      },
      "source": [
        "\n",
        "!wget https://mek.oszk.hu/00700/00708/00708.pdf -O jozsef.pdf\n",
        "text1 = parser.from_file('jozsef.pdf')\n",
        "jozsefData=text1['content']\n",
        "\n",
        "\n",
        "\n",
        "!wget https://mek.oszk.hu/00500/00597/00597.pdf -O arany.pdf\n",
        "text2 = parser.from_file('arany.pdf')\n",
        "aranyData=text2['content']\n"
      ],
      "execution_count": 4,
      "outputs": [
        {
          "output_type": "stream",
          "name": "stdout",
          "text": [
            "--2023-04-19 12:07:12--  https://mek.oszk.hu/00700/00708/00708.pdf\n",
            "Resolving mek.oszk.hu (mek.oszk.hu)... 193.6.201.253, 2001:738:0:306::2\n",
            "Connecting to mek.oszk.hu (mek.oszk.hu)|193.6.201.253|:443... connected.\n",
            "HTTP request sent, awaiting response... 200 OK\n",
            "Length: 1609063 (1.5M) [application/pdf]\n",
            "Saving to: ‘jozsef.pdf’\n",
            "\n",
            "jozsef.pdf          100%[===================>]   1.53M  1.94MB/s    in 0.8s    \n",
            "\n",
            "2023-04-19 12:07:14 (1.94 MB/s) - ‘jozsef.pdf’ saved [1609063/1609063]\n",
            "\n",
            "--2023-04-19 12:07:16--  https://mek.oszk.hu/00500/00597/00597.pdf\n",
            "Resolving mek.oszk.hu (mek.oszk.hu)... 193.6.201.253, 2001:738:0:306::2\n",
            "Connecting to mek.oszk.hu (mek.oszk.hu)|193.6.201.253|:443... connected.\n",
            "HTTP request sent, awaiting response... 200 OK\n",
            "Length: 4332687 (4.1M) [application/pdf]\n",
            "Saving to: ‘arany.pdf’\n",
            "\n",
            "arany.pdf           100%[===================>]   4.13M  2.73MB/s    in 1.5s    \n",
            "\n",
            "2023-04-19 12:07:18 (2.73 MB/s) - ‘arany.pdf’ saved [4332687/4332687]\n",
            "\n"
          ]
        }
      ]
    },
    {
      "cell_type": "code",
      "source": [
        "jozsefData=jozsefData[110500:] # the first part of the text was a summary with a lot of .... lines so i cut them out of the dataset\n",
        "aranyData=aranyData[300000:900000]  #I shortened the data, because the ram ran out in colab, and this way we have comparable amount of data from both authors\n",
        "#jozsefData=jozsefData[110500:400000] \n",
        "#aranyData=aranyData[300000:600000]\n",
        "print(len(aranyData))\n",
        "print(len(jozsefData))"
      ],
      "metadata": {
        "colab": {
          "base_uri": "https://localhost:8080/"
        },
        "id": "JWrX2hPkYjrE",
        "outputId": "d3aceb62-ee68-4e0f-e61d-c22ff18cbfe7"
      },
      "execution_count": 5,
      "outputs": [
        {
          "output_type": "stream",
          "name": "stdout",
          "text": [
            "600000\n",
            "556749\n"
          ]
        }
      ]
    },
    {
      "cell_type": "markdown",
      "source": [
        "## Data analysis\n",
        "Count the number of characters from both authors and display them on a plot (e.g. Seaborn's countplot)."
      ],
      "metadata": {
        "id": "U9Pmq91t3SRD"
      }
    },
    {
      "cell_type": "code",
      "source": [
        "chars1 = sorted(list(set(aranyData)))\n",
        "print('Unique characters in Arany Janos:', len(chars1))\n",
        "chars2 = sorted(list(set(jozsefData)))\n",
        "print('Unique characters in Jozsef Attila:', len(chars2))\n",
        "charsAll = sorted(list(set(aranyData+jozsefData)))\n",
        "print(len(charsAll))\n",
        "\n"
      ],
      "metadata": {
        "id": "uRqGdn4F3Spk",
        "colab": {
          "base_uri": "https://localhost:8080/"
        },
        "outputId": "acb6821c-3692-4930-8ed8-d5f0b9d410c2"
      },
      "execution_count": 6,
      "outputs": [
        {
          "output_type": "stream",
          "name": "stdout",
          "text": [
            "Unique characters in Arany Janos: 108\n",
            "Unique characters in Jozsef Attila: 108\n",
            "115\n"
          ]
        }
      ]
    },
    {
      "cell_type": "code",
      "source": [
        "#betuk_arany=[i for i in aranyData if i.isalpha()]\n",
        "betuk_arany=[]\n",
        "for i in list(aranyData):\n",
        "  if i.isalpha():\n",
        "    betuk_arany.append(i.lower())\n",
        "\n",
        "betuk_jozsef=[]\n",
        "for i in list(jozsefData):\n",
        "  if i.isalpha():\n",
        "    betuk_jozsef.append(i.lower())\n",
        "\n",
        "\n",
        "fig, ax = plt.subplots(2, 1, figsize=(15, 15))\n",
        "sns.countplot(x=betuk_arany,ax=ax[0]).set(title=\"Character distribution in János Arany's poems\")\n",
        "sns.countplot(x=betuk_jozsef,ax=ax[1]).set(title=\"Character distribution in Attila József's poems\")\n",
        "fig.tight_layout(pad=5.0)\n",
        "fig.show()"
      ],
      "metadata": {
        "colab": {
          "base_uri": "https://localhost:8080/",
          "height": 1000
        },
        "id": "_ruoyW3WVLT2",
        "outputId": "5ececc09-23a5-4416-bc9e-48fabf53159c"
      },
      "execution_count": 55,
      "outputs": [
        {
          "output_type": "display_data",
          "data": {
            "text/plain": [
              "<Figure size 1500x1500 with 2 Axes>"
            ],
            "image/png": "[encoded data removed]"
          },
          "metadata": {}
        }
      ]
    },
    {
      "cell_type": "markdown",
      "metadata": {
        "id": "cHyE_ndGIblJ"
      },
      "source": [
        "## Data loading, labeling and preprocessing\n",
        "Load the data and convert the characters into one-hot encodings. Then load the data into a 3D NumPy array, with a shape of\n",
        "\n",
        "* (batch, sequence_length, alphabet_length)\n",
        "\n",
        "where sequence_length=60, and alphabet_length equals to the number of unique characters in both datasets. The sequences should be cut out from the complete dataset by sliding window. You should add 0 and 1 labels to the sequences, according to the author. \n",
        "\n",
        "Later you may change sequence_length to achieve better results!"
      ]
    },
    {
      "cell_type": "code",
      "metadata": {
        "id": "arooXt0WIb6x"
      },
      "source": [
        "char_indices = dict((c, i) for i, c in enumerate(charsAll))\n",
        "indices_char = dict((i, c) for i, c in enumerate(charsAll))"
      ],
      "execution_count": 7,
      "outputs": []
    },
    {
      "cell_type": "code",
      "source": [
        "maxlen  = 60\n",
        "step    = 20   # the step size between two \"sentence\" is 10 characters\n",
        "# I tried different dataset sizes, because i had problem with colabs ram limit. I tried reducing the original data, and i got bad results with that\n",
        "# after that i tried incresing the step size and with that the results were much better\n",
        "aranySentences  = [] # maxlen number of characters, with \"step\" overlap between two \"sentences\" \n",
        "arany_next_chars = [] # the next character\n",
        "jozsefSentences=[]\n",
        "jozsef_next_chars=[]\n",
        "\n"
      ],
      "metadata": {
        "id": "nhgqSS2_1kQK"
      },
      "execution_count": 8,
      "outputs": []
    },
    {
      "cell_type": "code",
      "source": [
        "for i in range(0, len(jozsefData)-maxlen, step):\n",
        "    jozsefSentences.append(jozsefData[i:i+maxlen])\n",
        "\n",
        "for i in range(0, len(aranyData)-maxlen, step):\n",
        "    aranySentences.append(aranyData[i:i+maxlen])"
      ],
      "metadata": {
        "id": "kXybvJnuR-61"
      },
      "execution_count": 9,
      "outputs": []
    },
    {
      "cell_type": "code",
      "source": [
        "X_arany = np.zeros((len(aranySentences), maxlen,len(charsAll)))\n",
        "y_arany = np.zeros((len(aranySentences), 1))\n",
        "X_jozsef = np.zeros((len(jozsefSentences), maxlen,len(charsAll)))\n",
        "y_jozsef = np.zeros((len(jozsefSentences), 1))"
      ],
      "metadata": {
        "id": "IQXWCnoqS1WK"
      },
      "execution_count": 10,
      "outputs": []
    },
    {
      "cell_type": "code",
      "source": [
        "for i, sentence in enumerate(aranySentences):\n",
        "    for t, char in enumerate(sentence): \n",
        "        X_arany[i,t,char_indices[char]] = 1\n",
        "    y_arany[i] = 0\n",
        "\n",
        "for i, sentence in enumerate(jozsefSentences):\n",
        "    for t, char in enumerate(sentence): \n",
        "        X_jozsef[i,t,char_indices[char]] = 1\n",
        "    y_jozsef[i] = 1\n",
        "\n",
        "print (\"Shape of the input data:\", X_arany.shape)\n",
        "print (\"Shape of the target data:\", y_arany.shape)"
      ],
      "metadata": {
        "colab": {
          "base_uri": "https://localhost:8080/"
        },
        "id": "9OVqJ_vDTOfW",
        "outputId": "346eb518-48ea-4ac2-b8d0-7b9b350466f0"
      },
      "execution_count": 11,
      "outputs": [
        {
          "output_type": "stream",
          "name": "stdout",
          "text": [
            "Shape of the input data: (29997, 60, 115)\n",
            "Shape of the target data: (29997, 1)\n"
          ]
        }
      ]
    },
    {
      "cell_type": "markdown",
      "metadata": {
        "id": "lL1Mc8ibHnep"
      },
      "source": [
        "## Data splitting\n",
        "Split the data into train, validate and test sets. Make "
      ]
    },
    {
      "cell_type": "code",
      "source": [
        "train_split = 0.7\n",
        "valid_split=0.9\n",
        "train_split_ind_arany=int(len(X_arany)*train_split)\n",
        "train_split_ind_jozsef=int(len(X_jozsef)*train_split)\n",
        "valid_split_ind_arany=int(len(X_arany)*valid_split)\n",
        "valid_split_ind_jozsef=int(len(X_jozsef)*valid_split)\n",
        "X_train = np.concatenate((X_jozsef[:train_split_ind_jozsef],X_arany[:train_split_ind_arany]))\n",
        "Y_train = np.concatenate((y_jozsef[:train_split_ind_jozsef],y_arany[:train_split_ind_arany]))\n",
        "X_test = np.concatenate((X_jozsef[train_split_ind_jozsef:valid_split_ind_jozsef],X_arany[train_split_ind_arany:valid_split_ind_arany]))\n",
        "Y_test = np.concatenate((y_jozsef[train_split_ind_jozsef:valid_split_ind_jozsef],y_arany[train_split_ind_arany:valid_split_ind_arany]))\n",
        "X_valid = np.concatenate((X_jozsef[valid_split_ind_jozsef:],X_arany[valid_split_ind_arany:]))\n",
        "Y_valid = np.concatenate((y_jozsef[valid_split_ind_jozsef:],y_arany[valid_split_ind_arany:]))"
      ],
      "metadata": {
        "id": "Hz93vohqTrRn"
      },
      "execution_count": 12,
      "outputs": []
    },
    {
      "cell_type": "code",
      "source": [
        "print(X_train.shape)\n",
        "print(Y_train.shape)\n",
        "print(X_test.shape)\n",
        "print(Y_test.shape)\n",
        "print(X_valid.shape)\n",
        "print(Y_valid.shape)"
      ],
      "metadata": {
        "colab": {
          "base_uri": "https://localhost:8080/"
        },
        "id": "iyVyfipTzSY2",
        "outputId": "8270995e-6f32-46c5-c432-1b89132f5880"
      },
      "execution_count": 13,
      "outputs": [
        {
          "output_type": "stream",
          "name": "stdout",
          "text": [
            "(40481, 60, 115)\n",
            "(40481, 1)\n",
            "(11567, 60, 115)\n",
            "(11567, 1)\n",
            "(5784, 60, 115)\n",
            "(5784, 1)\n"
          ]
        }
      ]
    },
    {
      "cell_type": "markdown",
      "metadata": {
        "id": "hA8U9tr7HrNQ"
      },
      "source": [
        "## Model definition\n",
        "Define a 1D CNN or an LSTM for the task. Compile the model with the correct loss function."
      ]
    },
    {
      "cell_type": "code",
      "metadata": {
        "id": "BT1V1s4kHuUe"
      },
      "source": [
        "model = Sequential()\n",
        "model.add(LSTM(128, input_shape=(X_train.shape[-2], X_train.shape[-1])))\n",
        "model.add(Dense(1))\n",
        "model.add(Activation('sigmoid'))   #softmax ha 2 a dense sigmoid ha 1"
      ],
      "execution_count": 14,
      "outputs": []
    },
    {
      "cell_type": "code",
      "source": [
        "es = EarlyStopping(\n",
        "    monitor=\"val_accuracy\",\n",
        "    min_delta=0,\n",
        "    patience=5,\n",
        "    verbose=0,\n",
        "    mode=\"auto\",\n",
        "    baseline=None,\n",
        "    restore_best_weights=True,\n",
        "    start_from_epoch=0,\n",
        ")"
      ],
      "metadata": {
        "id": "oeeiRBQt0Rbt"
      },
      "execution_count": 15,
      "outputs": []
    },
    {
      "cell_type": "code",
      "source": [
        "optimizer = RMSprop(learning_rate=0.01)\n",
        "model.compile(loss='binary_crossentropy', optimizer='adam', metrics=[\"accuracy\"])"
      ],
      "metadata": {
        "id": "E5x6G2TBzw8L"
      },
      "execution_count": 16,
      "outputs": []
    },
    {
      "cell_type": "markdown",
      "metadata": {
        "id": "hWFb-nAMHuAI"
      },
      "source": [
        "## Model training\n",
        "Train the model and apply early stopping."
      ]
    },
    {
      "cell_type": "code",
      "source": [
        "history = model.fit(X_train, Y_train,\n",
        "              batch_size=256,\n",
        "              epochs=40,\n",
        "              validation_data=(X_valid, Y_valid),\n",
        "              verbose=1, \n",
        "              callbacks=es)"
      ],
      "metadata": {
        "colab": {
          "base_uri": "https://localhost:8080/"
        },
        "id": "K1JdxagQGngm",
        "outputId": "4277f430-ff92-47b2-f6bb-050aaa926450"
      },
      "execution_count": 17,
      "outputs": [
        {
          "output_type": "stream",
          "name": "stdout",
          "text": [
            "Epoch 1/40\n",
            "159/159 [==============================] - 67s 401ms/step - loss: 0.5804 - accuracy: 0.6888 - val_loss: 0.5090 - val_accuracy: 0.7688\n",
            "Epoch 2/40\n",
            "159/159 [==============================] - 64s 402ms/step - loss: 0.4911 - accuracy: 0.7613 - val_loss: 0.4985 - val_accuracy: 0.7758\n",
            "Epoch 3/40\n",
            "159/159 [==============================] - 63s 398ms/step - loss: 0.4362 - accuracy: 0.7983 - val_loss: 0.4583 - val_accuracy: 0.8152\n",
            "Epoch 4/40\n",
            "159/159 [==============================] - 64s 397ms/step - loss: 0.3746 - accuracy: 0.8337 - val_loss: 0.4183 - val_accuracy: 0.8339\n",
            "Epoch 5/40\n",
            "159/159 [==============================] - 65s 411ms/step - loss: 0.3484 - accuracy: 0.8476 - val_loss: 0.3806 - val_accuracy: 0.8456\n",
            "Epoch 6/40\n",
            "159/159 [==============================] - 63s 398ms/step - loss: 0.3265 - accuracy: 0.8583 - val_loss: 0.3404 - val_accuracy: 0.8589\n",
            "Epoch 7/40\n",
            "159/159 [==============================] - 65s 411ms/step - loss: 0.3053 - accuracy: 0.8679 - val_loss: 0.3594 - val_accuracy: 0.8626\n",
            "Epoch 8/40\n",
            "159/159 [==============================] - 63s 399ms/step - loss: 0.2872 - accuracy: 0.8757 - val_loss: 0.3105 - val_accuracy: 0.8779\n",
            "Epoch 9/40\n",
            "159/159 [==============================] - 58s 363ms/step - loss: 0.2723 - accuracy: 0.8817 - val_loss: 0.3322 - val_accuracy: 0.8721\n",
            "Epoch 10/40\n",
            "159/159 [==============================] - 58s 368ms/step - loss: 0.2601 - accuracy: 0.8885 - val_loss: 0.3273 - val_accuracy: 0.8753\n",
            "Epoch 11/40\n",
            "159/159 [==============================] - 77s 487ms/step - loss: 0.2488 - accuracy: 0.8928 - val_loss: 0.2839 - val_accuracy: 0.8885\n",
            "Epoch 12/40\n",
            "159/159 [==============================] - 79s 498ms/step - loss: 0.2416 - accuracy: 0.8954 - val_loss: 0.3659 - val_accuracy: 0.8676\n",
            "Epoch 13/40\n",
            "159/159 [==============================] - 64s 401ms/step - loss: 0.2310 - accuracy: 0.9019 - val_loss: 0.3008 - val_accuracy: 0.8824\n",
            "Epoch 14/40\n",
            "159/159 [==============================] - 61s 382ms/step - loss: 0.2217 - accuracy: 0.9059 - val_loss: 0.4174 - val_accuracy: 0.8655\n",
            "Epoch 15/40\n",
            "159/159 [==============================] - 58s 362ms/step - loss: 0.2150 - accuracy: 0.9105 - val_loss: 0.2868 - val_accuracy: 0.8888\n",
            "Epoch 16/40\n",
            "159/159 [==============================] - 65s 410ms/step - loss: 0.2051 - accuracy: 0.9127 - val_loss: 0.3421 - val_accuracy: 0.8800\n",
            "Epoch 17/40\n",
            "159/159 [==============================] - 64s 405ms/step - loss: 0.1958 - accuracy: 0.9168 - val_loss: 0.3402 - val_accuracy: 0.8715\n",
            "Epoch 18/40\n",
            "159/159 [==============================] - 60s 379ms/step - loss: 0.1915 - accuracy: 0.9188 - val_loss: 0.2909 - val_accuracy: 0.8838\n",
            "Epoch 19/40\n",
            "159/159 [==============================] - 62s 393ms/step - loss: 0.1776 - accuracy: 0.9256 - val_loss: 0.4044 - val_accuracy: 0.8798\n",
            "Epoch 20/40\n",
            "159/159 [==============================] - 57s 360ms/step - loss: 0.1676 - accuracy: 0.9291 - val_loss: 0.2851 - val_accuracy: 0.8890\n",
            "Epoch 21/40\n",
            "159/159 [==============================] - 58s 365ms/step - loss: 0.1636 - accuracy: 0.9315 - val_loss: 0.5056 - val_accuracy: 0.8504\n",
            "Epoch 22/40\n",
            "159/159 [==============================] - 59s 371ms/step - loss: 0.1563 - accuracy: 0.9342 - val_loss: 0.2957 - val_accuracy: 0.8878\n",
            "Epoch 23/40\n",
            "159/159 [==============================] - 58s 363ms/step - loss: 0.1457 - accuracy: 0.9393 - val_loss: 0.3322 - val_accuracy: 0.8833\n",
            "Epoch 24/40\n",
            "159/159 [==============================] - 59s 369ms/step - loss: 0.1395 - accuracy: 0.9434 - val_loss: 0.3698 - val_accuracy: 0.8869\n",
            "Epoch 25/40\n",
            "159/159 [==============================] - 59s 369ms/step - loss: 0.1364 - accuracy: 0.9445 - val_loss: 0.3647 - val_accuracy: 0.8821\n"
          ]
        }
      ]
    },
    {
      "cell_type": "markdown",
      "metadata": {
        "id": "0omw2XzSHwOo"
      },
      "source": [
        "## Evaluation on test data\n",
        "Evaluate the model on the test data in terms of loss and accuracy."
      ]
    },
    {
      "cell_type": "code",
      "metadata": {
        "id": "4bF3dQA1Hv_R",
        "colab": {
          "base_uri": "https://localhost:8080/"
        },
        "outputId": "76df4569-caab-4e73-8ed2-59cfac726d7a"
      },
      "source": [
        "preds = model.predict(X_test)\n",
        "round_preds= np.rint(preds)"
      ],
      "execution_count": 18,
      "outputs": [
        {
          "output_type": "stream",
          "name": "stdout",
          "text": [
            "362/362 [==============================] - 15s 40ms/step\n"
          ]
        }
      ]
    },
    {
      "cell_type": "code",
      "source": [
        "from sklearn.metrics import classification_report, balanced_accuracy_score, accuracy_score, recall_score, precision_score, f1_score, roc_curve, auc"
      ],
      "metadata": {
        "id": "O-6Y41xip9Ek"
      },
      "execution_count": 20,
      "outputs": []
    },
    {
      "cell_type": "code",
      "source": [
        "print(\"Accuracy:\",accuracy_score(Y_test, round_preds))\n",
        "print(\"Precision:\",precision_score(Y_test, round_preds, average='macro'))\n",
        "print(\"Recall:\",recall_score(Y_test, round_preds, average='macro'))\n",
        "print(\"F1:\",f1_score(Y_test, round_preds, average='macro'))"
      ],
      "metadata": {
        "colab": {
          "base_uri": "https://localhost:8080/"
        },
        "id": "dptLtUAgmPaG",
        "outputId": "2e07caa2-1333-4056-8ea7-8aaa2bf9af1e"
      },
      "execution_count": 21,
      "outputs": [
        {
          "output_type": "stream",
          "name": "stdout",
          "text": [
            "Accuracy: 0.9090516123454655\n",
            "Precision: 0.9089504758859119\n",
            "Recall: 0.9088850967007964\n",
            "F1: 0.9089168039896327\n"
          ]
        }
      ]
    },
    {
      "cell_type": "code",
      "source": [
        "result=model.evaluate(X_test,Y_test)"
      ],
      "metadata": {
        "colab": {
          "base_uri": "https://localhost:8080/"
        },
        "id": "9fNgLq1fm8-O",
        "outputId": "1c1bc025-198b-4ec8-f66b-507ef01e0b97"
      },
      "execution_count": 22,
      "outputs": [
        {
          "output_type": "stream",
          "name": "stdout",
          "text": [
            "362/362 [==============================] - 20s 56ms/step - loss: 0.2333 - accuracy: 0.9091\n"
          ]
        }
      ]
    },
    {
      "cell_type": "markdown",
      "metadata": {
        "id": "4Y73Q-h5Hz1r"
      },
      "source": [
        "## Confusion matrix\n",
        "Calculate and display the confusion matrix."
      ]
    },
    {
      "cell_type": "code",
      "metadata": {
        "id": "cW8zZi1uJm2B"
      },
      "source": [
        "from sklearn.metrics import confusion_matrix\n",
        "import seaborn as sns\n",
        "import matplotlib.pyplot as plt"
      ],
      "execution_count": 23,
      "outputs": []
    },
    {
      "cell_type": "code",
      "source": [
        "conf = confusion_matrix(Y_test, round_preds)\n",
        "plt.figure(figsize=(7,6))\n",
        "sns.heatmap(conf, fmt='d', annot=True, vmin=1, vmax=200)"
      ],
      "metadata": {
        "colab": {
          "base_uri": "https://localhost:8080/",
          "height": 545
        },
        "id": "cgnNu_AinfHu",
        "outputId": "db2319a9-fef8-4c0e-d0e9-247d3dd86945"
      },
      "execution_count": 24,
      "outputs": [
        {
          "output_type": "execute_result",
          "data": {
            "text/plain": [
              "<Axes: >"
            ]
          },
          "metadata": {},
          "execution_count": 24
        },
        {
          "output_type": "display_data",
          "data": {
            "text/plain": [
              "<Figure size 700x600 with 2 Axes>"
            ],
            "image/png": "[encoded data removed]"
          },
          "metadata": {}
        }
      ]
    }
  ]
}