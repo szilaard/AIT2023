{
 "cells": [
  {
   "cell_type": "markdown",
   "id": "738606c3",
   "metadata": {},
   "source": [
    "# 1st  assesment"
   ]
  },
  {
   "cell_type": "markdown",
   "id": "754f3b5d",
   "metadata": {},
   "source": [
    "<a target=\"_blank\" href=\"https://colab.research.google.com/github/szilaard/AIT2023/blob/main/assesment1.ipynb\">\n",
    "  <img src=\"https://colab.research.google.com/assets/colab-badge.svg\" alt=\"Open In Colab\"/>\n",
    "</a>"
   ]
  },
  {
   "cell_type": "code",
   "execution_count": null,
   "id": "77ea2a3c",
   "metadata": {},
   "outputs": [],
   "source": [
    "import numpy as np\n",
    "from PIL import Image"
   ]
  },
  {
   "cell_type": "markdown",
   "id": "bab826d3",
   "metadata": {},
   "source": [
    "Downloading the picture with wget"
   ]
  },
  {
   "cell_type": "code",
   "execution_count": null,
   "id": "168b77fa",
   "metadata": {},
   "outputs": [],
   "source": [
    "!wget https://i.cbc.ca/1.6453730.1652556568!/fileImage/httpImage/image.jpg_gen/derivatives/16x9_780/oak-tree.jpg -O tree.jpg"
   ]
  },
  {
   "cell_type": "code",
   "execution_count": null,
   "id": "8c6f63cb",
   "metadata": {},
   "outputs": [],
   "source": [
    "tree=Image.open(\"tree.jpg\")\n",
    "\n",
    "treearr=tree.load()\n",
    "tree"
   ]
  },
  {
   "cell_type": "code",
   "execution_count": null,
   "id": "9dc1311a",
   "metadata": {},
   "outputs": [],
   "source": [
    "print(tree.format)\n",
    "print(tree.size)\n",
    "print(tree.mode)"
   ]
  },
  {
   "cell_type": "code",
   "execution_count": null,
   "id": "90d60648",
   "metadata": {},
   "outputs": [],
   "source": [
    "for i in range(30):\n",
    "    for j in range(30):\n",
    "        treearr[tree.size[0]-1-i,j]=(0,0,0)\n"
   ]
  },
  {
   "cell_type": "code",
   "execution_count": null,
   "id": "2a506fcd",
   "metadata": {},
   "outputs": [],
   "source": [
    "tree"
   ]
  }
 ],
 "metadata": {
  "kernelspec": {
   "display_name": "Python 3 (ipykernel)",
   "language": "python",
   "name": "python3"
  },
  "language_info": {
   "codemirror_mode": {
    "name": "ipython",
    "version": 3
   },
   "file_extension": ".py",
   "mimetype": "text/x-python",
   "name": "python",
   "nbconvert_exporter": "python",
   "pygments_lexer": "ipython3",
   "version": "3.9.13"
  }
 },
 "nbformat": 4,
 "nbformat_minor": 5
}
