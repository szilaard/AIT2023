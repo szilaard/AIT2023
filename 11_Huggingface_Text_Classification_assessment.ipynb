{
  "cells": [
    {
      "cell_type": "markdown",
      "metadata": {
        "id": "view-in-github",
        "colab_type": "text"
      },
      "source": [
        "<a href=\"https://colab.research.google.com/github/szilaard/AIT2023/blob/main/11_Huggingface_Text_Classification_assessment.ipynb\" target=\"_parent\"><img src=\"https://colab.research.google.com/assets/colab-badge.svg\" alt=\"Open In Colab\"/></a>"
      ]
    },
    {
      "cell_type": "markdown",
      "metadata": {
        "id": "htO7JShhI4sa"
      },
      "source": [
        "## Assessment: Classifying authors with DistilBERT\n",
        "Please use the HuggingFace Transformer library for author classification:\n",
        "* use the DistilBERT architecture this time,\n",
        "* collect data from 4 authors,\n",
        "* create, train and evaluate a classifier with DistilBERT and 4 authors.\n",
        "\n"
      ]
    },
    {
      "cell_type": "code",
      "execution_count": 1,
      "metadata": {
        "id": "hsdBQBpDAX5X"
      },
      "outputs": [],
      "source": [
        "%%capture\n",
        "!pip install tensorflow transformers\n",
        "!python -m spacy download en"
      ]
    },
    {
      "cell_type": "code",
      "execution_count": 2,
      "metadata": {
        "id": "wew63ncSAmvw"
      },
      "outputs": [],
      "source": [
        "import tensorflow as tf\n",
        "from tensorflow.keras import activations, optimizers, losses\n",
        "from transformers import DistilBertTokenizer, TFDistilBertForSequenceClassification\n",
        "import pickle\n",
        "import spacy\n",
        "from urllib.request import urlretrieve\n",
        "from sklearn.metrics import classification_report, confusion_matrix\n",
        "import seaborn as sns\n",
        "import numpy as np"
      ]
    },
    {
      "cell_type": "markdown",
      "metadata": {
        "id": "C1uUKILjBqq1"
      },
      "source": [
        "## 1. Exercise: Dataset acquisition"
      ]
    },
    {
      "cell_type": "code",
      "source": [
        "nlp = spacy.load(\"en_core_web_sm\")\n",
        "\n",
        "def sentencesSplit(raw_text):\n",
        "  doc = nlp(raw_text)\n",
        "  sentences = [sent.text for sent in doc.sents]\n",
        "  return sentences\n"
      ],
      "metadata": {
        "id": "p9fAu51wXiW6"
      },
      "execution_count": 3,
      "outputs": []
    },
    {
      "cell_type": "code",
      "source": [
        "book1=\"http://www.gutenberg.org/files/2151/2151-0.txt\"\n",
        "book2=\"https://www.gutenberg.org/cache/epub/70589/pg70589.txt\"\n",
        "book3=\"https://www.gutenberg.org/files/11/11-0.txt\"\n",
        "book4=\"https://www.gutenberg.org/files/76/76-0.txt\"\n",
        "urlretrieve(book1, 'book1.txt')\n",
        "urlretrieve(book2, 'book2.txt')\n",
        "urlretrieve(book3, 'book3.txt')\n",
        "urlretrieve(book4, 'book4.txt')\n",
        "book1_text = open(\"book1.txt\", encoding='utf-8').read().lower()\n",
        "book2_text = open(\"book2.txt\", encoding='utf-8').read().lower()\n",
        "book3_text = open(\"book3.txt\", encoding='utf-8').read().lower()\n",
        "book4_text = open(\"book4.txt\", encoding='utf-8').read().lower()"
      ],
      "metadata": {
        "id": "oyYxDTArW8us"
      },
      "execution_count": 88,
      "outputs": []
    },
    {
      "cell_type": "code",
      "source": [
        "book1_sents = sentencesSplit(book1_text)\n",
        "book2_sents = sentencesSplit(book2_text)\n",
        "book3_sents = sentencesSplit(book3_text)\n",
        "book4_sents = sentencesSplit(book4_text)\n",
        "booklen=np.array([len(book1_sents),len(book2_sents),len(book3_sents),len(book4_sents)])"
      ],
      "metadata": {
        "id": "4z_e_aSvX1_l"
      },
      "execution_count": 89,
      "outputs": []
    },
    {
      "cell_type": "code",
      "source": [
        "TRAIN_SIZE = 0.8\n",
        "t_split_1  = int(TRAIN_SIZE*len(book1_sents))\n",
        "t_split_2  = int(TRAIN_SIZE*len(book2_sents))\n",
        "t_split_3  = int(TRAIN_SIZE*len(book3_sents))\n",
        "t_split_4  = int(TRAIN_SIZE*len(book4_sents))\n",
        "t_splits=np.array([t_split_1,t_split_2,t_split_3,t_split_4])\n",
        "t_test=booklen-t_splits\n"
      ],
      "metadata": {
        "id": "Xp4SGIWO1kBp"
      },
      "execution_count": 90,
      "outputs": []
    },
    {
      "cell_type": "code",
      "source": [
        "X_train = book1_sents[:t_split_1] + book2_sents[:t_split_2] + book3_sents[:t_split_3] + book4_sents[:t_split_4]\n",
        "Y_train=np.zeros(((t_split_1+t_split_2+t_split_3+t_split_4),4))\n",
        "for i in range(len(t_splits)):\n",
        "  sum=np.sum(t_splits[:i])\n",
        "  for t in range(t_splits[i]):\n",
        "    Y_train[t+sum,i]=1\n",
        "\n",
        "\n",
        "X_test  = book1_sents[t_split_1:] + book2_sents[t_split_2:] + book3_sents[t_split_3:] + book4_sents[t_split_4:]\n",
        "Y_test=np.zeros((len(book1_sents)-t_split_1+len(book2_sents)-t_split_2+len(book3_sents)-t_split_3+len(book4_sents)-t_split_4,4))\n",
        "for i in range(len(t_test)):\n",
        "  sum=np.sum(t_test[:i])\n",
        "  for t in range(t_test[i]):\n",
        "    Y_test[sum+t,i]=1\n"
      ],
      "metadata": {
        "id": "2_m0goznY-gH"
      },
      "execution_count": 91,
      "outputs": []
    },
    {
      "cell_type": "code",
      "source": [
        "Y_test.shape"
      ],
      "metadata": {
        "colab": {
          "base_uri": "https://localhost:8080/"
        },
        "id": "xY36x2dCFBpU",
        "outputId": "899e4e86-8cfb-4a0c-8a6d-138074367b9f"
      },
      "execution_count": 42,
      "outputs": [
        {
          "output_type": "execute_result",
          "data": {
            "text/plain": [
              "(2718, 4)"
            ]
          },
          "metadata": {},
          "execution_count": 42
        }
      ]
    },
    {
      "cell_type": "markdown",
      "metadata": {
        "id": "v06X47TXFFup"
      },
      "source": [
        "# 2. Exercise: Data preparation\n",
        "\n",
        "We are using [DisitlBERT](https://huggingface.co/transformers/model_doc/distilbert.html) model, in which we have to convert each sentence into a tuple containing the text's [input ids](https://huggingface.co/transformers/glossary.html#input-ids) and the corresponding [attention masks](https://huggingface.co/transformers/glossary.html#attention-mask). In order to do so, the corresponding tokizer can be used: [DistilBertTokenizer](https://huggingface.co/transformers/model_doc/distilbert.html#distilberttokenizer)\n",
        "\n",
        "We trim or pad the processed sentences to MAX_LEN (due to `truncation=True` and `padding=True` parameters) - this is an easy solution to handle inputs with different lengths."
      ]
    },
    {
      "cell_type": "code",
      "execution_count": 92,
      "metadata": {
        "id": "V3NrIFRoBR0z",
        "colab": {
          "base_uri": "https://localhost:8080/"
        },
        "outputId": "1989c9dd-f9e5-4618-bc68-74817d84f9b1"
      },
      "outputs": [
        {
          "output_type": "stream",
          "name": "stdout",
          "text": [
            "sentence: 'there are, nevertheless, three or\n",
            "      four female heads, of an ethereal beauty-portraits in the manner of sully.\n",
            "      '\n",
            "input ids: [101, 2045, 2024, 1010, 6600, 1010, 2093, 2030, 2176, 2931, 4641, 1010, 1997, 2019, 28855, 15879, 5053, 1011, 9668, 102]\n",
            "attention mask: [1, 1, 1, 1, 1, 1, 1, 1, 1, 1, 1, 1, 1, 1, 1, 1, 1, 1, 1, 1]\n"
          ]
        }
      ],
      "source": [
        "MODEL_NAME = 'distilbert-base-uncased'\n",
        "MAX_LEN = 20\n",
        "\n",
        "sample = X_train[100]\n",
        "\n",
        "tokenizer = DistilBertTokenizer.from_pretrained(MODEL_NAME)\n",
        "inputs = tokenizer(sample, max_length=MAX_LEN, truncation=True, padding=True)\n",
        "\n",
        "print(f'sentence: \\'{sample}\\'')\n",
        "print(f'input ids: {inputs[\"input_ids\"]}')\n",
        "print(f'attention mask: {inputs[\"attention_mask\"]}')"
      ]
    },
    {
      "cell_type": "markdown",
      "metadata": {
        "id": "HMgiD2cgATjr"
      },
      "source": [
        "This transformation must be applied to each sentence in the corpus. Here's how we do it: `construct_encodings` maps the tokenizer to each `sentence` and aggregates them:"
      ]
    },
    {
      "cell_type": "code",
      "execution_count": 93,
      "metadata": {
        "id": "Ycf5U8fj6ocz"
      },
      "outputs": [],
      "source": [
        "def construct_encodings(x, tokenizer, max_len, trucation=True, padding=True):\n",
        "    return tokenizer(x, max_length=max_len, truncation=trucation, padding=padding)\n",
        "    \n",
        "encodings_train = construct_encodings(X_train, tokenizer, max_len=MAX_LEN)\n",
        "encodings_test  = construct_encodings(X_test, tokenizer, max_len=MAX_LEN)"
      ]
    },
    {
      "cell_type": "markdown",
      "metadata": {
        "id": "qbSYjFOlOut5"
      },
      "source": [
        "Now we have to convert the `encodings` and `y` (which holds the classes of the authors) into a [Tensorflow Dataset object](https://www.tensorflow.org/api_docs/python/tf/data/Dataset):\n",
        "\n"
      ]
    },
    {
      "cell_type": "code",
      "execution_count": 94,
      "metadata": {
        "id": "HyOQIPhX6ocz"
      },
      "outputs": [],
      "source": [
        "def construct_tfdataset(encodings, y=None):\n",
        "    if y is not None:\n",
        "        return tf.data.Dataset.from_tensor_slices((dict(encodings),y))\n",
        "    else:\n",
        "        # this case is used when making predictions on unseen samples after training\n",
        "        return tf.data.Dataset.from_tensor_slices(dict(encodings))\n",
        "    \n",
        "tfdataset_train = construct_tfdataset(encodings_train, Y_train)\n",
        "tfdataset_test  = construct_tfdataset(encodings_test, Y_test)"
      ]
    },
    {
      "cell_type": "markdown",
      "metadata": {
        "id": "xUo15LYpPqI1"
      },
      "source": [
        "Shuffle the training data and create batches."
      ]
    },
    {
      "cell_type": "code",
      "execution_count": 95,
      "metadata": {
        "id": "fKTJqUF5R-o4"
      },
      "outputs": [],
      "source": [
        "BATCH_SIZE = 16\n",
        "\n",
        "tfdataset_train = tfdataset_train.shuffle(len(X_train))\n",
        "tfdataset_train = tfdataset_train.take(len(X_train))\n",
        "tfdataset_test = tfdataset_test.take(len(X_test))\n",
        "tfdataset_train = tfdataset_train.batch(BATCH_SIZE)\n",
        "tfdataset_test = tfdataset_test.batch(BATCH_SIZE)"
      ]
    },
    {
      "cell_type": "markdown",
      "metadata": {
        "id": "6Nqs83LVFUQE"
      },
      "source": [
        "Our data is finally ready. Now we can do the fun part: model fitting!"
      ]
    },
    {
      "cell_type": "markdown",
      "metadata": {
        "id": "40Hk-8fDR_Pg"
      },
      "source": [
        "# 3. Exercise: Fine-tuning the model\n",
        "\n",
        "Fine-tuning the model is as easy as instantiating a model instance, [optimizer](https://developers.google.com/machine-learning/glossary#optimizer), and [loss](https://developers.google.com/machine-learning/glossary#loss), and then compiling/fitting:"
      ]
    },
    {
      "cell_type": "code",
      "execution_count": 96,
      "metadata": {
        "id": "rVU_LoASQMcp",
        "colab": {
          "base_uri": "https://localhost:8080/"
        },
        "outputId": "3c502c69-3298-4ede-b78c-7cc6890865a0"
      },
      "outputs": [
        {
          "output_type": "stream",
          "name": "stderr",
          "text": [
            "Some layers from the model checkpoint at distilbert-base-uncased were not used when initializing TFDistilBertForSequenceClassification: ['vocab_projector', 'activation_13', 'vocab_transform', 'vocab_layer_norm']\n",
            "- This IS expected if you are initializing TFDistilBertForSequenceClassification from the checkpoint of a model trained on another task or with another architecture (e.g. initializing a BertForSequenceClassification model from a BertForPreTraining model).\n",
            "- This IS NOT expected if you are initializing TFDistilBertForSequenceClassification from the checkpoint of a model that you expect to be exactly identical (initializing a BertForSequenceClassification model from a BertForSequenceClassification model).\n",
            "Some layers of TFDistilBertForSequenceClassification were not initialized from the model checkpoint at distilbert-base-uncased and are newly initialized: ['pre_classifier', 'classifier', 'dropout_219']\n",
            "You should probably TRAIN this model on a down-stream task to be able to use it for predictions and inference.\n"
          ]
        },
        {
          "output_type": "stream",
          "name": "stdout",
          "text": [
            "Epoch 1/4\n",
            "679/679 [==============================] - 72s 71ms/step - loss: 0.4278 - accuracy: 0.8492\n",
            "Epoch 2/4\n",
            "679/679 [==============================] - 39s 58ms/step - loss: 0.1588 - accuracy: 0.9484\n",
            "Epoch 3/4\n",
            "679/679 [==============================] - 39s 58ms/step - loss: 0.0799 - accuracy: 0.9739\n",
            "Epoch 4/4\n",
            "679/679 [==============================] - 39s 58ms/step - loss: 0.0502 - accuracy: 0.9843\n"
          ]
        },
        {
          "output_type": "execute_result",
          "data": {
            "text/plain": [
              "<keras.callbacks.History at 0x7f09038d1bd0>"
            ]
          },
          "metadata": {},
          "execution_count": 96
        }
      ],
      "source": [
        "N_EPOCHS = 4\n",
        "model = TFDistilBertForSequenceClassification.from_pretrained(MODEL_NAME,num_labels=4)\n",
        "optimizer = optimizers.Adam(learning_rate=3e-5)\n",
        "loss = losses.CategoricalCrossentropy(from_logits=True)  \n",
        "model.compile(optimizer=optimizer, loss=loss, metrics=['accuracy'])\n",
        "\n",
        "model.fit(tfdataset_train, batch_size=BATCH_SIZE, epochs=N_EPOCHS)"
      ]
    },
    {
      "cell_type": "markdown",
      "metadata": {
        "id": "Sgz5Jfi9cmDv"
      },
      "source": [
        "## 4. Exercise: Evaluation"
      ]
    },
    {
      "cell_type": "markdown",
      "metadata": {
        "id": "KBYlX43STjhl"
      },
      "source": [
        "Let's test our model with the test set and the default classification metrics."
      ]
    },
    {
      "cell_type": "code",
      "execution_count": 97,
      "metadata": {
        "id": "QhmogfJhco0T",
        "colab": {
          "base_uri": "https://localhost:8080/"
        },
        "outputId": "13e218e2-d86c-4339-c25b-6908ffe76a46"
      },
      "outputs": [
        {
          "output_type": "stream",
          "name": "stdout",
          "text": [
            "170/170 [==============================] - 5s 21ms/step - loss: 0.7060 - accuracy: 0.8024\n",
            "{'loss': 0.7060083150863647, 'accuracy': 0.8024282455444336}\n"
          ]
        }
      ],
      "source": [
        "print(model.evaluate(tfdataset_test, return_dict=True, batch_size=BATCH_SIZE))"
      ]
    },
    {
      "cell_type": "code",
      "source": [
        "preds = model.predict(tfdataset_test, batch_size=BATCH_SIZE)\n",
        "preds_classes = np.argmax(preds[0], axis=1)"
      ],
      "metadata": {
        "id": "rktYMdbT5IHh",
        "colab": {
          "base_uri": "https://localhost:8080/"
        },
        "outputId": "cfff0d33-7f55-4b46-cd8a-a06ae8c7743c"
      },
      "execution_count": 98,
      "outputs": [
        {
          "output_type": "stream",
          "name": "stdout",
          "text": [
            "170/170 [==============================] - 6s 26ms/step\n"
          ]
        }
      ]
    },
    {
      "cell_type": "code",
      "source": [
        "print(classification_report(np.argmax(Y_test,axis=1), preds_classes))"
      ],
      "metadata": {
        "id": "hOmlbMFe5edo",
        "colab": {
          "base_uri": "https://localhost:8080/"
        },
        "outputId": "383423eb-eed8-4b93-eaa7-90a57164c4ff"
      },
      "execution_count": 99,
      "outputs": [
        {
          "output_type": "stream",
          "name": "stdout",
          "text": [
            "              precision    recall  f1-score   support\n",
            "\n",
            "           0       0.65      0.82      0.72       613\n",
            "           1       0.88      0.83      0.86       696\n",
            "           2       0.63      0.54      0.58       292\n",
            "           3       0.91      0.84      0.88      1117\n",
            "\n",
            "    accuracy                           0.80      2718\n",
            "   macro avg       0.77      0.76      0.76      2718\n",
            "weighted avg       0.81      0.80      0.80      2718\n",
            "\n"
          ]
        }
      ]
    },
    {
      "cell_type": "code",
      "source": [
        "conf=confusion_matrix(np.argmax(Y_test,axis=1), preds_classes)\n",
        "sns.heatmap(conf, annot=True, fmt='d')"
      ],
      "metadata": {
        "id": "NMBfI5ph5kEY",
        "colab": {
          "base_uri": "https://localhost:8080/",
          "height": 447
        },
        "outputId": "d6d1a3da-15f3-443f-a997-e55d30c18406"
      },
      "execution_count": 100,
      "outputs": [
        {
          "output_type": "execute_result",
          "data": {
            "text/plain": [
              "<Axes: >"
            ]
          },
          "metadata": {},
          "execution_count": 100
        },
        {
          "output_type": "display_data",
          "data": {
            "text/plain": [
              "<Figure size 640x480 with 2 Axes>"
            ],
            "image/png": "[encoded data removed]"
          },
          "metadata": {}
        }
      ]
    }
  ],
  "metadata": {
    "colab": {
      "provenance": [],
      "include_colab_link": true
    },
    "kernelspec": {
      "display_name": "Python 3",
      "language": "python",
      "name": "python3"
    },
    "language_info": {
      "codemirror_mode": {
        "name": "ipython",
        "version": 3
      },
      "file_extension": ".py",
      "mimetype": "text/x-python",
      "name": "python",
      "nbconvert_exporter": "python",
      "pygments_lexer": "ipython3",
      "version": "3.8.5"
    },
    "accelerator": "GPU",
    "gpuClass": "standard"
  },
  "nbformat": 4,
  "nbformat_minor": 0
}